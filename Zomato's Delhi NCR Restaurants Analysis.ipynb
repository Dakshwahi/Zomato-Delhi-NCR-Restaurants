{
 "cells": [
  {
   "cell_type": "code",
   "execution_count": 1,
   "metadata": {},
   "outputs": [
    {
     "data": {
      "application/javascript": [
       "\n",
       "        if (window._pyforest_update_imports_cell) { window._pyforest_update_imports_cell('import pandas as pd'); }\n",
       "    "
      ],
      "text/plain": [
       "<IPython.core.display.Javascript object>"
      ]
     },
     "metadata": {},
     "output_type": "display_data"
    }
   ],
   "source": [
    "zomato_delhi = pd.read_csv('DelhiNCR Restaurants.csv')"
   ]
  },
  {
   "cell_type": "code",
   "execution_count": 2,
   "metadata": {},
   "outputs": [],
   "source": [
    "df = zomato_delhi.copy()"
   ]
  },
  {
   "cell_type": "code",
   "execution_count": 3,
   "metadata": {},
   "outputs": [
    {
     "data": {
      "text/html": [
       "<div>\n",
       "<style scoped>\n",
       "    .dataframe tbody tr th:only-of-type {\n",
       "        vertical-align: middle;\n",
       "    }\n",
       "\n",
       "    .dataframe tbody tr th {\n",
       "        vertical-align: top;\n",
       "    }\n",
       "\n",
       "    .dataframe thead th {\n",
       "        text-align: right;\n",
       "    }\n",
       "</style>\n",
       "<table border=\"1\" class=\"dataframe\">\n",
       "  <thead>\n",
       "    <tr style=\"text-align: right;\">\n",
       "      <th></th>\n",
       "      <th>Restaurant_Name</th>\n",
       "      <th>Category</th>\n",
       "      <th>Pricing_for_2</th>\n",
       "      <th>Locality</th>\n",
       "      <th>Dining_Rating</th>\n",
       "      <th>Dining_Review_Count</th>\n",
       "      <th>Delivery_Rating</th>\n",
       "      <th>Delivery_Rating_Count</th>\n",
       "      <th>Website</th>\n",
       "      <th>Address</th>\n",
       "      <th>Phone_No</th>\n",
       "      <th>Latitude</th>\n",
       "      <th>Longitude</th>\n",
       "      <th>Known_For2</th>\n",
       "      <th>Known_For22</th>\n",
       "    </tr>\n",
       "  </thead>\n",
       "  <tbody>\n",
       "    <tr>\n",
       "      <th>0</th>\n",
       "      <td>Rustom's</td>\n",
       "      <td>Parsi, Street Food, North Indian, Desserts, Be...</td>\n",
       "      <td>2100</td>\n",
       "      <td>ITO, New Delhi</td>\n",
       "      <td>4.9</td>\n",
       "      <td>1885</td>\n",
       "      <td>4.4</td>\n",
       "      <td>1844</td>\n",
       "      <td>https://www.zomato.com/ncr/rustoms-ito-new-delhi</td>\n",
       "      <td>Delhi Parsi Anjuman, LNJP Colony, Bahadur Shah...</td>\n",
       "      <td>9.1991E+11</td>\n",
       "      <td>28.638167</td>\n",
       "      <td>77.240472</td>\n",
       "      <td>NaN</td>\n",
       "      <td>NaN</td>\n",
       "    </tr>\n",
       "    <tr>\n",
       "      <th>1</th>\n",
       "      <td>Cafe Lota</td>\n",
       "      <td>Cafe, South Indian, North Indian, Beverages</td>\n",
       "      <td>1200</td>\n",
       "      <td>Pragati Maidan, New Delhi</td>\n",
       "      <td>4.9</td>\n",
       "      <td>3748</td>\n",
       "      <td>3.9</td>\n",
       "      <td>37</td>\n",
       "      <td>https://www.zomato.com/ncr/cafe-lota-pragati-m...</td>\n",
       "      <td>National Crafts Museum, Gate 2, Bhairon Marg, ...</td>\n",
       "      <td>9.17839E+11</td>\n",
       "      <td>28.613429</td>\n",
       "      <td>77.242471</td>\n",
       "      <td>Pondicherry Fish Curry, Coconut Rabdi, Sabudan...</td>\n",
       "      <td>Artistic Decor, The Service, Natural Ambience,...</td>\n",
       "    </tr>\n",
       "    <tr>\n",
       "      <th>2</th>\n",
       "      <td>Dum-Pukht - ITC Maurya</td>\n",
       "      <td>Mughlai, North Indian, Desserts</td>\n",
       "      <td>5000</td>\n",
       "      <td>ITC Maurya, Chanakyapuri, New Delhi</td>\n",
       "      <td>4.9</td>\n",
       "      <td>1371</td>\n",
       "      <td>NaN</td>\n",
       "      <td>0</td>\n",
       "      <td>https://www.zomato.com/ncr/dum-pukht-itc-maury...</td>\n",
       "      <td>ITC Maurya, Chanakyapuri, New Delhi</td>\n",
       "      <td>9.11146E+11</td>\n",
       "      <td>28.598200</td>\n",
       "      <td>77.173661</td>\n",
       "      <td>Royal ambiance and Mughlai cuisine, also recei...</td>\n",
       "      <td>NaN</td>\n",
       "    </tr>\n",
       "    <tr>\n",
       "      <th>3</th>\n",
       "      <td>Burma Burma</td>\n",
       "      <td>Asian, Burmese, Bubble Tea, Desserts, Salad</td>\n",
       "      <td>1600</td>\n",
       "      <td>Cyber Hub, DLF Cyber City, Gurgaon</td>\n",
       "      <td>4.9</td>\n",
       "      <td>2636</td>\n",
       "      <td>4.4</td>\n",
       "      <td>1238</td>\n",
       "      <td>https://www.zomato.com/ncr/burma-burma-dlf-cyb...</td>\n",
       "      <td>Shop 6, Ground Floor, Building 8, Tower C, Cyb...</td>\n",
       "      <td>9.11244E+11</td>\n",
       "      <td>28.494464</td>\n",
       "      <td>77.088532</td>\n",
       "      <td>Coconut Milk Dessert, Honey Caviar, Kaffir Lim...</td>\n",
       "      <td>Knowledgeable Staff, Authentic, Soothing Ambie...</td>\n",
       "    </tr>\n",
       "    <tr>\n",
       "      <th>4</th>\n",
       "      <td>The Big Chill</td>\n",
       "      <td>Continental, American, Italian</td>\n",
       "      <td>1500</td>\n",
       "      <td>Khan Market, New Delhi</td>\n",
       "      <td>4.9</td>\n",
       "      <td>6487</td>\n",
       "      <td>NaN</td>\n",
       "      <td>0</td>\n",
       "      <td>https://www.zomato.com/ncr/the-big-chill-khan-...</td>\n",
       "      <td>68-A, Khan Market, New Delhi</td>\n",
       "      <td>9.11142E+11</td>\n",
       "      <td>28.600350</td>\n",
       "      <td>77.227493</td>\n",
       "      <td>Irish Cream Tiramisu, Penne Vodka, Mississippi...</td>\n",
       "      <td>Retro Ambience, Yummy Desserts, Big Portions, ...</td>\n",
       "    </tr>\n",
       "  </tbody>\n",
       "</table>\n",
       "</div>"
      ],
      "text/plain": [
       "          Restaurant_Name                                           Category  \\\n",
       "0                Rustom's  Parsi, Street Food, North Indian, Desserts, Be...   \n",
       "1               Cafe Lota        Cafe, South Indian, North Indian, Beverages   \n",
       "2  Dum-Pukht - ITC Maurya                    Mughlai, North Indian, Desserts   \n",
       "3             Burma Burma        Asian, Burmese, Bubble Tea, Desserts, Salad   \n",
       "4           The Big Chill                     Continental, American, Italian   \n",
       "\n",
       "   Pricing_for_2                              Locality  Dining_Rating  \\\n",
       "0           2100                        ITO, New Delhi            4.9   \n",
       "1           1200             Pragati Maidan, New Delhi            4.9   \n",
       "2           5000   ITC Maurya, Chanakyapuri, New Delhi            4.9   \n",
       "3           1600    Cyber Hub, DLF Cyber City, Gurgaon            4.9   \n",
       "4           1500                Khan Market, New Delhi            4.9   \n",
       "\n",
       "   Dining_Review_Count  Delivery_Rating  Delivery_Rating_Count  \\\n",
       "0                 1885              4.4                   1844   \n",
       "1                 3748              3.9                     37   \n",
       "2                 1371              NaN                      0   \n",
       "3                 2636              4.4                   1238   \n",
       "4                 6487              NaN                      0   \n",
       "\n",
       "                                             Website  \\\n",
       "0   https://www.zomato.com/ncr/rustoms-ito-new-delhi   \n",
       "1  https://www.zomato.com/ncr/cafe-lota-pragati-m...   \n",
       "2  https://www.zomato.com/ncr/dum-pukht-itc-maury...   \n",
       "3  https://www.zomato.com/ncr/burma-burma-dlf-cyb...   \n",
       "4  https://www.zomato.com/ncr/the-big-chill-khan-...   \n",
       "\n",
       "                                             Address     Phone_No   Latitude  \\\n",
       "0  Delhi Parsi Anjuman, LNJP Colony, Bahadur Shah...   9.1991E+11  28.638167   \n",
       "1  National Crafts Museum, Gate 2, Bhairon Marg, ...  9.17839E+11  28.613429   \n",
       "2                ITC Maurya, Chanakyapuri, New Delhi  9.11146E+11  28.598200   \n",
       "3  Shop 6, Ground Floor, Building 8, Tower C, Cyb...  9.11244E+11  28.494464   \n",
       "4                       68-A, Khan Market, New Delhi  9.11142E+11  28.600350   \n",
       "\n",
       "   Longitude                                         Known_For2  \\\n",
       "0  77.240472                                                NaN   \n",
       "1  77.242471  Pondicherry Fish Curry, Coconut Rabdi, Sabudan...   \n",
       "2  77.173661  Royal ambiance and Mughlai cuisine, also recei...   \n",
       "3  77.088532  Coconut Milk Dessert, Honey Caviar, Kaffir Lim...   \n",
       "4  77.227493  Irish Cream Tiramisu, Penne Vodka, Mississippi...   \n",
       "\n",
       "                                         Known_For22  \n",
       "0                                                NaN  \n",
       "1  Artistic Decor, The Service, Natural Ambience,...  \n",
       "2                                                NaN  \n",
       "3  Knowledgeable Staff, Authentic, Soothing Ambie...  \n",
       "4  Retro Ambience, Yummy Desserts, Big Portions, ...  "
      ]
     },
     "execution_count": 3,
     "metadata": {},
     "output_type": "execute_result"
    }
   ],
   "source": [
    "df.head()"
   ]
  },
  {
   "cell_type": "code",
   "execution_count": 4,
   "metadata": {},
   "outputs": [
    {
     "data": {
      "text/plain": [
       "(1965, 15)"
      ]
     },
     "execution_count": 4,
     "metadata": {},
     "output_type": "execute_result"
    }
   ],
   "source": [
    "# Shape of the dataset \n",
    "df.shape"
   ]
  },
  {
   "cell_type": "code",
   "execution_count": 5,
   "metadata": {},
   "outputs": [
    {
     "name": "stdout",
     "output_type": "stream",
     "text": [
      "<class 'pandas.core.frame.DataFrame'>\n",
      "RangeIndex: 1965 entries, 0 to 1964\n",
      "Data columns (total 15 columns):\n",
      " #   Column                 Non-Null Count  Dtype  \n",
      "---  ------                 --------------  -----  \n",
      " 0   Restaurant_Name        1965 non-null   object \n",
      " 1   Category               1965 non-null   object \n",
      " 2   Pricing_for_2          1965 non-null   int64  \n",
      " 3   Locality               1965 non-null   object \n",
      " 4   Dining_Rating          1965 non-null   float64\n",
      " 5   Dining_Review_Count    1965 non-null   int64  \n",
      " 6   Delivery_Rating        1563 non-null   float64\n",
      " 7   Delivery_Rating_Count  1965 non-null   int64  \n",
      " 8   Website                1965 non-null   object \n",
      " 9   Address                1965 non-null   object \n",
      " 10  Phone_No               1965 non-null   object \n",
      " 11  Latitude               1965 non-null   float64\n",
      " 12  Longitude              1965 non-null   float64\n",
      " 13  Known_For2             1560 non-null   object \n",
      " 14  Known_For22            1124 non-null   object \n",
      "dtypes: float64(4), int64(3), object(8)\n",
      "memory usage: 230.4+ KB\n"
     ]
    }
   ],
   "source": [
    "# Information about Dataset Features\n",
    "df.info()"
   ]
  },
  {
   "cell_type": "code",
   "execution_count": 6,
   "metadata": {},
   "outputs": [],
   "source": [
    "# Renaming the columns *Known_For2 & *Known_For22 \n",
    "df.rename(columns= {'Known_For2':'Speciality' , 'Known_For22':'Feedback'}, inplace=True)"
   ]
  },
  {
   "cell_type": "markdown",
   "metadata": {},
   "source": [
    "### Dropping the Phone No & Website feature."
   ]
  },
  {
   "cell_type": "code",
   "execution_count": 7,
   "metadata": {},
   "outputs": [],
   "source": [
    "df.drop(['Phone_No', 'Website'], axis=1, inplace=True)"
   ]
  },
  {
   "cell_type": "code",
   "execution_count": 8,
   "metadata": {},
   "outputs": [
    {
     "data": {
      "application/javascript": [
       "\n",
       "        if (window._pyforest_update_imports_cell) { window._pyforest_update_imports_cell('import pandas as pd'); }\n",
       "    "
      ],
      "text/plain": [
       "<IPython.core.display.Javascript object>"
      ]
     },
     "metadata": {},
     "output_type": "display_data"
    },
    {
     "data": {
      "text/plain": [
       "<matplotlib.axes._subplots.AxesSubplot at 0x20b8363c820>"
      ]
     },
     "execution_count": 8,
     "metadata": {},
     "output_type": "execute_result"
    },
    {
     "data": {
      "image/png": "[encoded data removed]",
      "text/plain": [
       "<Figure size 1800x720 with 3 Axes>"
      ]
     },
     "metadata": {
      "needs_background": "light"
     },
     "output_type": "display_data"
    }
   ],
   "source": [
    "# Checking the missing values\n",
    "from IPython.display import display\n",
    "pd.options.display.max_columns = None\n",
    "import missingno as msno\n",
    "\n",
    "msno.bar(df)"
   ]
  },
  {
   "cell_type": "markdown",
   "metadata": {},
   "source": [
    "### Decoding missing values in Delivery rating feature"
   ]
  },
  {
   "cell_type": "code",
   "execution_count": 9,
   "metadata": {},
   "outputs": [
    {
     "data": {
      "text/html": [
       "<div>\n",
       "<style scoped>\n",
       "    .dataframe tbody tr th:only-of-type {\n",
       "        vertical-align: middle;\n",
       "    }\n",
       "\n",
       "    .dataframe tbody tr th {\n",
       "        vertical-align: top;\n",
       "    }\n",
       "\n",
       "    .dataframe thead th {\n",
       "        text-align: right;\n",
       "    }\n",
       "</style>\n",
       "<table border=\"1\" class=\"dataframe\">\n",
       "  <thead>\n",
       "    <tr style=\"text-align: right;\">\n",
       "      <th></th>\n",
       "      <th>Restaurant_Name</th>\n",
       "      <th>Category</th>\n",
       "      <th>Pricing_for_2</th>\n",
       "      <th>Locality</th>\n",
       "      <th>Dining_Rating</th>\n",
       "      <th>Dining_Review_Count</th>\n",
       "      <th>Delivery_Rating</th>\n",
       "      <th>Delivery_Rating_Count</th>\n",
       "      <th>Address</th>\n",
       "      <th>Latitude</th>\n",
       "      <th>Longitude</th>\n",
       "      <th>Speciality</th>\n",
       "      <th>Feedback</th>\n",
       "    </tr>\n",
       "  </thead>\n",
       "  <tbody>\n",
       "    <tr>\n",
       "      <th>2</th>\n",
       "      <td>Dum-Pukht - ITC Maurya</td>\n",
       "      <td>Mughlai, North Indian, Desserts</td>\n",
       "      <td>5000</td>\n",
       "      <td>ITC Maurya, Chanakyapuri, New Delhi</td>\n",
       "      <td>4.9</td>\n",
       "      <td>1371</td>\n",
       "      <td>NaN</td>\n",
       "      <td>0</td>\n",
       "      <td>ITC Maurya, Chanakyapuri, New Delhi</td>\n",
       "      <td>28.598200</td>\n",
       "      <td>77.173661</td>\n",
       "      <td>Royal ambiance and Mughlai cuisine, also recei...</td>\n",
       "      <td>NaN</td>\n",
       "    </tr>\n",
       "    <tr>\n",
       "      <th>4</th>\n",
       "      <td>The Big Chill</td>\n",
       "      <td>Continental, American, Italian</td>\n",
       "      <td>1500</td>\n",
       "      <td>Khan Market, New Delhi</td>\n",
       "      <td>4.9</td>\n",
       "      <td>6487</td>\n",
       "      <td>NaN</td>\n",
       "      <td>0</td>\n",
       "      <td>68-A, Khan Market, New Delhi</td>\n",
       "      <td>28.600350</td>\n",
       "      <td>77.227493</td>\n",
       "      <td>Irish Cream Tiramisu, Penne Vodka, Mississippi...</td>\n",
       "      <td>Retro Ambience, Yummy Desserts, Big Portions, ...</td>\n",
       "    </tr>\n",
       "    <tr>\n",
       "      <th>18</th>\n",
       "      <td>The Big Chill Cakery</td>\n",
       "      <td>Bakery, Desserts</td>\n",
       "      <td>400</td>\n",
       "      <td>DLF Mall of India, Sector 18,  Noida, Noida</td>\n",
       "      <td>4.8</td>\n",
       "      <td>884</td>\n",
       "      <td>NaN</td>\n",
       "      <td>0</td>\n",
       "      <td>Ground Floor, DLF Mall Of India, Sector 18, Noida</td>\n",
       "      <td>28.567882</td>\n",
       "      <td>77.320971</td>\n",
       "      <td>Triple Chocolate Cheesecake, Irish Tiramisu, M...</td>\n",
       "      <td>Pretty Decor, Behavior, More Variety, Packed o...</td>\n",
       "    </tr>\n",
       "    <tr>\n",
       "      <th>23</th>\n",
       "      <td>Chaina Ram Sindhi Confectioners</td>\n",
       "      <td>Mithai, Street Food</td>\n",
       "      <td>350</td>\n",
       "      <td>Chandni Chowk, New Delhi</td>\n",
       "      <td>4.7</td>\n",
       "      <td>1155</td>\n",
       "      <td>NaN</td>\n",
       "      <td>0</td>\n",
       "      <td>6499, Fathepuri Chowk, Chandni Chowk, New Delhi</td>\n",
       "      <td>28.656595</td>\n",
       "      <td>77.223251</td>\n",
       "      <td>Sev Badam, Sohan Halwa, Pinni, Malai Ghewar, P...</td>\n",
       "      <td>Sweetshop+Restaurant, Breakfast, Owner, Amazin...</td>\n",
       "    </tr>\n",
       "    <tr>\n",
       "      <th>24</th>\n",
       "      <td>Sevilla - The Claridges</td>\n",
       "      <td>Spanish, Italian, Desserts</td>\n",
       "      <td>4500</td>\n",
       "      <td>The Claridges, Aurangzeb Road, New Delhi</td>\n",
       "      <td>4.7</td>\n",
       "      <td>1630</td>\n",
       "      <td>NaN</td>\n",
       "      <td>0</td>\n",
       "      <td>The Claridges, 12, Dr. A.P.J. Abdul Kalam Road...</td>\n",
       "      <td>28.600335</td>\n",
       "      <td>77.216924</td>\n",
       "      <td>Patata Bravas, Corn Fed Chicken, Date Night, D...</td>\n",
       "      <td>Romantic Getaway, Romantic Setting, Candle Lig...</td>\n",
       "    </tr>\n",
       "    <tr>\n",
       "      <th>...</th>\n",
       "      <td>...</td>\n",
       "      <td>...</td>\n",
       "      <td>...</td>\n",
       "      <td>...</td>\n",
       "      <td>...</td>\n",
       "      <td>...</td>\n",
       "      <td>...</td>\n",
       "      <td>...</td>\n",
       "      <td>...</td>\n",
       "      <td>...</td>\n",
       "      <td>...</td>\n",
       "      <td>...</td>\n",
       "      <td>...</td>\n",
       "    </tr>\n",
       "    <tr>\n",
       "      <th>1932</th>\n",
       "      <td>Polo Lounge - Hyatt Regency</td>\n",
       "      <td>Finger Food</td>\n",
       "      <td>2500</td>\n",
       "      <td>Hyatt Regency, Bhikaji Cama Place, New Delhi</td>\n",
       "      <td>3.9</td>\n",
       "      <td>89</td>\n",
       "      <td>NaN</td>\n",
       "      <td>0</td>\n",
       "      <td>Hyatt Regency, Bhikaji Cama Place, New Delhi</td>\n",
       "      <td>28.568443</td>\n",
       "      <td>77.186974</td>\n",
       "      <td>Extensive Mocktail Menu, Vintage Decor, Live S...</td>\n",
       "      <td>NaN</td>\n",
       "    </tr>\n",
       "    <tr>\n",
       "      <th>1937</th>\n",
       "      <td>Cake-O-Licious</td>\n",
       "      <td>Bakery</td>\n",
       "      <td>400</td>\n",
       "      <td>Rajouri Garden, New Delhi</td>\n",
       "      <td>3.9</td>\n",
       "      <td>53</td>\n",
       "      <td>NaN</td>\n",
       "      <td>0</td>\n",
       "      <td>Rajouri Garden, New Delhi</td>\n",
       "      <td>28.640402</td>\n",
       "      <td>77.119902</td>\n",
       "      <td>Highly Customizable Cakes, Great Taste, Presen...</td>\n",
       "      <td>NaN</td>\n",
       "    </tr>\n",
       "    <tr>\n",
       "      <th>1956</th>\n",
       "      <td>Playboy Tap</td>\n",
       "      <td>European, Continental</td>\n",
       "      <td>1600</td>\n",
       "      <td>Global Foyer Mall, Golf Course Road, Gurgaon</td>\n",
       "      <td>3.9</td>\n",
       "      <td>265</td>\n",
       "      <td>NaN</td>\n",
       "      <td>0</td>\n",
       "      <td>Global Foyer Mall, Sector 43, Golf Course Road...</td>\n",
       "      <td>28.464459</td>\n",
       "      <td>77.094758</td>\n",
       "      <td>Cigar Roll, Chicken Tikka Pizza, Crispy Corn, ...</td>\n",
       "      <td>Live Entertainment, Good Bartenders, Beautiful...</td>\n",
       "    </tr>\n",
       "    <tr>\n",
       "      <th>1957</th>\n",
       "      <td>Ricks Bar - The Taj Mahal Hotel</td>\n",
       "      <td>Malaysian, Thai</td>\n",
       "      <td>4200</td>\n",
       "      <td>The Taj Mahal Hotel, Mansingh Road, New Delhi</td>\n",
       "      <td>3.9</td>\n",
       "      <td>95</td>\n",
       "      <td>NaN</td>\n",
       "      <td>0</td>\n",
       "      <td>The Taj Mahal Hotel, 1, Mansingh Road, New Delhi</td>\n",
       "      <td>28.604976</td>\n",
       "      <td>77.224217</td>\n",
       "      <td>NaN</td>\n",
       "      <td>NaN</td>\n",
       "    </tr>\n",
       "    <tr>\n",
       "      <th>1958</th>\n",
       "      <td>Glued Reloaded</td>\n",
       "      <td>Cafe, Fast Food, Rolls</td>\n",
       "      <td>1000</td>\n",
       "      <td>Sector 41, Noida</td>\n",
       "      <td>3.9</td>\n",
       "      <td>455</td>\n",
       "      <td>NaN</td>\n",
       "      <td>0</td>\n",
       "      <td>Glued Reloaded, Dynamic House, Next HP Petrol ...</td>\n",
       "      <td>28.561689</td>\n",
       "      <td>77.360940</td>\n",
       "      <td>Fun Place, Hookah, Sheesha, Cool Place, Decent...</td>\n",
       "      <td>NaN</td>\n",
       "    </tr>\n",
       "  </tbody>\n",
       "</table>\n",
       "<p>256 rows × 13 columns</p>\n",
       "</div>"
      ],
      "text/plain": [
       "                      Restaurant_Name                         Category  \\\n",
       "2              Dum-Pukht - ITC Maurya  Mughlai, North Indian, Desserts   \n",
       "4                       The Big Chill   Continental, American, Italian   \n",
       "18               The Big Chill Cakery                 Bakery, Desserts   \n",
       "23    Chaina Ram Sindhi Confectioners              Mithai, Street Food   \n",
       "24            Sevilla - The Claridges       Spanish, Italian, Desserts   \n",
       "...                               ...                              ...   \n",
       "1932      Polo Lounge - Hyatt Regency                      Finger Food   \n",
       "1937                   Cake-O-Licious                           Bakery   \n",
       "1956                      Playboy Tap            European, Continental   \n",
       "1957  Ricks Bar - The Taj Mahal Hotel                  Malaysian, Thai   \n",
       "1958                   Glued Reloaded           Cafe, Fast Food, Rolls   \n",
       "\n",
       "      Pricing_for_2                                        Locality  \\\n",
       "2              5000             ITC Maurya, Chanakyapuri, New Delhi   \n",
       "4              1500                          Khan Market, New Delhi   \n",
       "18              400     DLF Mall of India, Sector 18,  Noida, Noida   \n",
       "23              350                        Chandni Chowk, New Delhi   \n",
       "24             4500        The Claridges, Aurangzeb Road, New Delhi   \n",
       "...             ...                                             ...   \n",
       "1932           2500    Hyatt Regency, Bhikaji Cama Place, New Delhi   \n",
       "1937            400                       Rajouri Garden, New Delhi   \n",
       "1956           1600    Global Foyer Mall, Golf Course Road, Gurgaon   \n",
       "1957           4200   The Taj Mahal Hotel, Mansingh Road, New Delhi   \n",
       "1958           1000                                Sector 41, Noida   \n",
       "\n",
       "      Dining_Rating  Dining_Review_Count  Delivery_Rating  \\\n",
       "2               4.9                 1371              NaN   \n",
       "4               4.9                 6487              NaN   \n",
       "18              4.8                  884              NaN   \n",
       "23              4.7                 1155              NaN   \n",
       "24              4.7                 1630              NaN   \n",
       "...             ...                  ...              ...   \n",
       "1932            3.9                   89              NaN   \n",
       "1937            3.9                   53              NaN   \n",
       "1956            3.9                  265              NaN   \n",
       "1957            3.9                   95              NaN   \n",
       "1958            3.9                  455              NaN   \n",
       "\n",
       "      Delivery_Rating_Count  \\\n",
       "2                         0   \n",
       "4                         0   \n",
       "18                        0   \n",
       "23                        0   \n",
       "24                        0   \n",
       "...                     ...   \n",
       "1932                      0   \n",
       "1937                      0   \n",
       "1956                      0   \n",
       "1957                      0   \n",
       "1958                      0   \n",
       "\n",
       "                                                Address   Latitude  Longitude  \\\n",
       "2                   ITC Maurya, Chanakyapuri, New Delhi  28.598200  77.173661   \n",
       "4                          68-A, Khan Market, New Delhi  28.600350  77.227493   \n",
       "18    Ground Floor, DLF Mall Of India, Sector 18, Noida  28.567882  77.320971   \n",
       "23      6499, Fathepuri Chowk, Chandni Chowk, New Delhi  28.656595  77.223251   \n",
       "24    The Claridges, 12, Dr. A.P.J. Abdul Kalam Road...  28.600335  77.216924   \n",
       "...                                                 ...        ...        ...   \n",
       "1932       Hyatt Regency, Bhikaji Cama Place, New Delhi  28.568443  77.186974   \n",
       "1937                          Rajouri Garden, New Delhi  28.640402  77.119902   \n",
       "1956  Global Foyer Mall, Sector 43, Golf Course Road...  28.464459  77.094758   \n",
       "1957   The Taj Mahal Hotel, 1, Mansingh Road, New Delhi  28.604976  77.224217   \n",
       "1958  Glued Reloaded, Dynamic House, Next HP Petrol ...  28.561689  77.360940   \n",
       "\n",
       "                                             Speciality  \\\n",
       "2     Royal ambiance and Mughlai cuisine, also recei...   \n",
       "4     Irish Cream Tiramisu, Penne Vodka, Mississippi...   \n",
       "18    Triple Chocolate Cheesecake, Irish Tiramisu, M...   \n",
       "23    Sev Badam, Sohan Halwa, Pinni, Malai Ghewar, P...   \n",
       "24    Patata Bravas, Corn Fed Chicken, Date Night, D...   \n",
       "...                                                 ...   \n",
       "1932  Extensive Mocktail Menu, Vintage Decor, Live S...   \n",
       "1937  Highly Customizable Cakes, Great Taste, Presen...   \n",
       "1956  Cigar Roll, Chicken Tikka Pizza, Crispy Corn, ...   \n",
       "1957                                                NaN   \n",
       "1958  Fun Place, Hookah, Sheesha, Cool Place, Decent...   \n",
       "\n",
       "                                               Feedback  \n",
       "2                                                   NaN  \n",
       "4     Retro Ambience, Yummy Desserts, Big Portions, ...  \n",
       "18    Pretty Decor, Behavior, More Variety, Packed o...  \n",
       "23    Sweetshop+Restaurant, Breakfast, Owner, Amazin...  \n",
       "24    Romantic Getaway, Romantic Setting, Candle Lig...  \n",
       "...                                                 ...  \n",
       "1932                                                NaN  \n",
       "1937                                                NaN  \n",
       "1956  Live Entertainment, Good Bartenders, Beautiful...  \n",
       "1957                                                NaN  \n",
       "1958                                                NaN  \n",
       "\n",
       "[256 rows x 13 columns]"
      ]
     },
     "execution_count": 9,
     "metadata": {},
     "output_type": "execute_result"
    }
   ],
   "source": [
    "df[df.Delivery_Rating_Count == 0 ]"
   ]
  },
  {
   "cell_type": "markdown",
   "metadata": {},
   "source": [
    "### Even the Restaurants having very high dining rating have 0 Delivery Rating count which inturn results in missing values in Delivery rating feature.This might be because these restaurants have tied-up with zomato recently(ITC maurya announced their tie-up with zomato for delivery services in late 2020 )."
   ]
  },
  {
   "cell_type": "markdown",
   "metadata": {},
   "source": [
    "## **************************************************************************"
   ]
  },
  {
   "cell_type": "markdown",
   "metadata": {},
   "source": [
    "## Imputing the missing values"
   ]
  },
  {
   "cell_type": "code",
   "execution_count": 10,
   "metadata": {},
   "outputs": [],
   "source": [
    "# Imputing the missing values  in Delivery Rating feature.\n",
    "df['Delivery_Rating'].fillna('New', inplace=True)"
   ]
  },
  {
   "cell_type": "code",
   "execution_count": 11,
   "metadata": {},
   "outputs": [
    {
     "data": {
      "application/javascript": [
       "\n",
       "        if (window._pyforest_update_imports_cell) { window._pyforest_update_imports_cell('import pandas as pd\\nimport numpy as np'); }\n",
       "    "
      ],
      "text/plain": [
       "<IPython.core.display.Javascript object>"
      ]
     },
     "metadata": {},
     "output_type": "display_data"
    }
   ],
   "source": [
    "# Creating a new feature to get a better understanding of missing data while modelling.\n",
    "df['Missing_Delivery_Rating'] = np.where(df['Delivery_Rating'] == 'New' , 1, 0)"
   ]
  },
  {
   "cell_type": "code",
   "execution_count": 12,
   "metadata": {},
   "outputs": [
    {
     "data": {
      "text/html": [
       "<div>\n",
       "<style scoped>\n",
       "    .dataframe tbody tr th:only-of-type {\n",
       "        vertical-align: middle;\n",
       "    }\n",
       "\n",
       "    .dataframe tbody tr th {\n",
       "        vertical-align: top;\n",
       "    }\n",
       "\n",
       "    .dataframe thead th {\n",
       "        text-align: right;\n",
       "    }\n",
       "</style>\n",
       "<table border=\"1\" class=\"dataframe\">\n",
       "  <thead>\n",
       "    <tr style=\"text-align: right;\">\n",
       "      <th></th>\n",
       "      <th>Restaurant_Name</th>\n",
       "      <th>Category</th>\n",
       "      <th>Pricing_for_2</th>\n",
       "      <th>Locality</th>\n",
       "      <th>Dining_Rating</th>\n",
       "      <th>Dining_Review_Count</th>\n",
       "      <th>Delivery_Rating</th>\n",
       "      <th>Delivery_Rating_Count</th>\n",
       "      <th>Address</th>\n",
       "      <th>Latitude</th>\n",
       "      <th>Longitude</th>\n",
       "      <th>Speciality</th>\n",
       "      <th>Feedback</th>\n",
       "      <th>Missing_Delivery_Rating</th>\n",
       "    </tr>\n",
       "  </thead>\n",
       "  <tbody>\n",
       "    <tr>\n",
       "      <th>8</th>\n",
       "      <td>Kuremal Mohan Lal Kulfi Wale</td>\n",
       "      <td>Ice Cream, Desserts</td>\n",
       "      <td>200</td>\n",
       "      <td>Chawri Bazar, New Delhi</td>\n",
       "      <td>4.9</td>\n",
       "      <td>1120</td>\n",
       "      <td>New</td>\n",
       "      <td>5</td>\n",
       "      <td>526, Kucha Pati Ram, Bazar Sita Ram, Near Chaw...</td>\n",
       "      <td>28.647662</td>\n",
       "      <td>77.226991</td>\n",
       "      <td>Orange Kulfi, Jamun Kulfi, Mixed Fruit, Fruit ...</td>\n",
       "      <td>Bank for the Buck, Totally Worth it, Table Ser...</td>\n",
       "      <td>1</td>\n",
       "    </tr>\n",
       "    <tr>\n",
       "      <th>35</th>\n",
       "      <td>Threesixtyone Degrees - The Oberoi</td>\n",
       "      <td>Asian, Continental, North Indian, Mughlai, Des...</td>\n",
       "      <td>5500</td>\n",
       "      <td>The Oberoi, Udyog Vihar, Gurgaon</td>\n",
       "      <td>4.7</td>\n",
       "      <td>1019</td>\n",
       "      <td>New</td>\n",
       "      <td>1</td>\n",
       "      <td>443, Phase 5, Udyog Vihar, Gurgaon</td>\n",
       "      <td>28.501983</td>\n",
       "      <td>77.086985</td>\n",
       "      <td>Buffet, Chocolate Cake, Thai Curry, Salads, Vi...</td>\n",
       "      <td>Outside Deck, Poolside View, Sophisticated, Am...</td>\n",
       "      <td>1</td>\n",
       "    </tr>\n",
       "    <tr>\n",
       "      <th>48</th>\n",
       "      <td>Plum By Bent Chair</td>\n",
       "      <td>Chinese, Japanese, Thai, Asian, Beverages</td>\n",
       "      <td>2200</td>\n",
       "      <td>Aerocity, New Delhi</td>\n",
       "      <td>4.6</td>\n",
       "      <td>2402</td>\n",
       "      <td>New</td>\n",
       "      <td>1</td>\n",
       "      <td>Ground Floor, Worldmark 2, Aerocity, New Delhi</td>\n",
       "      <td>28.551540</td>\n",
       "      <td>77.122704</td>\n",
       "      <td>Elderflower Cocktail, Thai Mojito, Cappuccino ...</td>\n",
       "      <td>Great Taste Value for Money, Good Quality with...</td>\n",
       "      <td>1</td>\n",
       "    </tr>\n",
       "    <tr>\n",
       "      <th>49</th>\n",
       "      <td>Kiyan - The Roseate</td>\n",
       "      <td>Thai, European, North Indian, Pizza, Salad</td>\n",
       "      <td>5500</td>\n",
       "      <td>The Roseate, Kapashera, New Delhi</td>\n",
       "      <td>4.6</td>\n",
       "      <td>1124</td>\n",
       "      <td>New</td>\n",
       "      <td>2</td>\n",
       "      <td>The Roseate, 21st Milestone, Samalkha, NH 8, K...</td>\n",
       "      <td>28.525118</td>\n",
       "      <td>77.100226</td>\n",
       "      <td>NaN</td>\n",
       "      <td>NaN</td>\n",
       "      <td>1</td>\n",
       "    </tr>\n",
       "    <tr>\n",
       "      <th>53</th>\n",
       "      <td>Clock Tower</td>\n",
       "      <td>North Indian, Asian, Beverages, Fast Food</td>\n",
       "      <td>2500</td>\n",
       "      <td>Golf Course Road, Gurgaon</td>\n",
       "      <td>4.6</td>\n",
       "      <td>1300</td>\n",
       "      <td>New</td>\n",
       "      <td>9</td>\n",
       "      <td>Near Rapid Metro Pillar 141, Golf Course Road,...</td>\n",
       "      <td>28.448130</td>\n",
       "      <td>77.100745</td>\n",
       "      <td>NaN</td>\n",
       "      <td>NaN</td>\n",
       "      <td>1</td>\n",
       "    </tr>\n",
       "    <tr>\n",
       "      <th>...</th>\n",
       "      <td>...</td>\n",
       "      <td>...</td>\n",
       "      <td>...</td>\n",
       "      <td>...</td>\n",
       "      <td>...</td>\n",
       "      <td>...</td>\n",
       "      <td>...</td>\n",
       "      <td>...</td>\n",
       "      <td>...</td>\n",
       "      <td>...</td>\n",
       "      <td>...</td>\n",
       "      <td>...</td>\n",
       "      <td>...</td>\n",
       "      <td>...</td>\n",
       "    </tr>\n",
       "    <tr>\n",
       "      <th>1928</th>\n",
       "      <td>Deepak Vaishno Dhaba</td>\n",
       "      <td>North Indian</td>\n",
       "      <td>400</td>\n",
       "      <td>Jail Road, New Delhi</td>\n",
       "      <td>3.9</td>\n",
       "      <td>138</td>\n",
       "      <td>New</td>\n",
       "      <td>1</td>\n",
       "      <td>Stalls A-F, DDA Market, Jail Road, New Delhi</td>\n",
       "      <td>28.631387</td>\n",
       "      <td>77.098122</td>\n",
       "      <td>Achari Chaap, Malai Chaap, Shahi Paneer, Dal M...</td>\n",
       "      <td>NaN</td>\n",
       "      <td>1</td>\n",
       "    </tr>\n",
       "    <tr>\n",
       "      <th>1930</th>\n",
       "      <td>Ssence - A Culinary Showcase - The Suryaa New ...</td>\n",
       "      <td>North Indian, Pizza, Desserts, Fast Food, Past...</td>\n",
       "      <td>3000</td>\n",
       "      <td>The Suryaa New Delhi, New Friends Colony, New...</td>\n",
       "      <td>3.9</td>\n",
       "      <td>168</td>\n",
       "      <td>New</td>\n",
       "      <td>3</td>\n",
       "      <td>The Suryaa New Delhi, New Friends Colony, New ...</td>\n",
       "      <td>28.561002</td>\n",
       "      <td>77.269392</td>\n",
       "      <td>Sophisticated, Live Kitchen, Chef, Great Servi...</td>\n",
       "      <td>NaN</td>\n",
       "      <td>1</td>\n",
       "    </tr>\n",
       "    <tr>\n",
       "      <th>1943</th>\n",
       "      <td>Hyde by Plan B</td>\n",
       "      <td>North Indian, Chinese</td>\n",
       "      <td>1000</td>\n",
       "      <td>Sector 21, Gurgaon</td>\n",
       "      <td>3.9</td>\n",
       "      <td>237</td>\n",
       "      <td>New</td>\n",
       "      <td>10</td>\n",
       "      <td>14/3, Old Delhi Gurgaon Road, Near Infocity, S...</td>\n",
       "      <td>28.508292</td>\n",
       "      <td>77.071902</td>\n",
       "      <td>Crowd, Environment, Good Ambience, Music, Grea...</td>\n",
       "      <td>NaN</td>\n",
       "      <td>1</td>\n",
       "    </tr>\n",
       "    <tr>\n",
       "      <th>1950</th>\n",
       "      <td>Hungry La</td>\n",
       "      <td>North Indian, Fast Food</td>\n",
       "      <td>200</td>\n",
       "      <td>DLF Phase 3, Gurgaon</td>\n",
       "      <td>3.9</td>\n",
       "      <td>5</td>\n",
       "      <td>New</td>\n",
       "      <td>1</td>\n",
       "      <td>Shop 3, U51/44, Ground Floor, U Block, DLF Pha...</td>\n",
       "      <td>28.491887</td>\n",
       "      <td>77.093789</td>\n",
       "      <td>NaN</td>\n",
       "      <td>NaN</td>\n",
       "      <td>1</td>\n",
       "    </tr>\n",
       "    <tr>\n",
       "      <th>1961</th>\n",
       "      <td>Kovilakam</td>\n",
       "      <td>South Indian</td>\n",
       "      <td>350</td>\n",
       "      <td>Dilshad Garden, New Delhi</td>\n",
       "      <td>3.9</td>\n",
       "      <td>114</td>\n",
       "      <td>New</td>\n",
       "      <td>1</td>\n",
       "      <td>F-1, Lower Ground 2, Mrignaini Chowk, Dilshad ...</td>\n",
       "      <td>28.684101</td>\n",
       "      <td>77.326725</td>\n",
       "      <td>Kerala Parotta, Roasted Chicken, Chicken Curry...</td>\n",
       "      <td>Lip Smacking Food, Amazing Food, Owner, Good P...</td>\n",
       "      <td>1</td>\n",
       "    </tr>\n",
       "  </tbody>\n",
       "</table>\n",
       "<p>148 rows × 14 columns</p>\n",
       "</div>"
      ],
      "text/plain": [
       "                                        Restaurant_Name  \\\n",
       "8                          Kuremal Mohan Lal Kulfi Wale   \n",
       "35                   Threesixtyone Degrees - The Oberoi   \n",
       "48                                   Plum By Bent Chair   \n",
       "49                                  Kiyan - The Roseate   \n",
       "53                                          Clock Tower   \n",
       "...                                                 ...   \n",
       "1928                               Deepak Vaishno Dhaba   \n",
       "1930  Ssence - A Culinary Showcase - The Suryaa New ...   \n",
       "1943                                     Hyde by Plan B   \n",
       "1950                                          Hungry La   \n",
       "1961                                          Kovilakam   \n",
       "\n",
       "                                               Category  Pricing_for_2  \\\n",
       "8                                   Ice Cream, Desserts            200   \n",
       "35    Asian, Continental, North Indian, Mughlai, Des...           5500   \n",
       "48            Chinese, Japanese, Thai, Asian, Beverages           2200   \n",
       "49           Thai, European, North Indian, Pizza, Salad           5500   \n",
       "53            North Indian, Asian, Beverages, Fast Food           2500   \n",
       "...                                                 ...            ...   \n",
       "1928                                       North Indian            400   \n",
       "1930  North Indian, Pizza, Desserts, Fast Food, Past...           3000   \n",
       "1943                              North Indian, Chinese           1000   \n",
       "1950                            North Indian, Fast Food            200   \n",
       "1961                                       South Indian            350   \n",
       "\n",
       "                                               Locality  Dining_Rating  \\\n",
       "8                               Chawri Bazar, New Delhi            4.9   \n",
       "35                     The Oberoi, Udyog Vihar, Gurgaon            4.7   \n",
       "48                                  Aerocity, New Delhi            4.6   \n",
       "49                    The Roseate, Kapashera, New Delhi            4.6   \n",
       "53                            Golf Course Road, Gurgaon            4.6   \n",
       "...                                                 ...            ...   \n",
       "1928                               Jail Road, New Delhi            3.9   \n",
       "1930   The Suryaa New Delhi, New Friends Colony, New...            3.9   \n",
       "1943                                 Sector 21, Gurgaon            3.9   \n",
       "1950                               DLF Phase 3, Gurgaon            3.9   \n",
       "1961                          Dilshad Garden, New Delhi            3.9   \n",
       "\n",
       "      Dining_Review_Count Delivery_Rating  Delivery_Rating_Count  \\\n",
       "8                    1120             New                      5   \n",
       "35                   1019             New                      1   \n",
       "48                   2402             New                      1   \n",
       "49                   1124             New                      2   \n",
       "53                   1300             New                      9   \n",
       "...                   ...             ...                    ...   \n",
       "1928                  138             New                      1   \n",
       "1930                  168             New                      3   \n",
       "1943                  237             New                     10   \n",
       "1950                    5             New                      1   \n",
       "1961                  114             New                      1   \n",
       "\n",
       "                                                Address   Latitude  Longitude  \\\n",
       "8     526, Kucha Pati Ram, Bazar Sita Ram, Near Chaw...  28.647662  77.226991   \n",
       "35                   443, Phase 5, Udyog Vihar, Gurgaon  28.501983  77.086985   \n",
       "48       Ground Floor, Worldmark 2, Aerocity, New Delhi  28.551540  77.122704   \n",
       "49    The Roseate, 21st Milestone, Samalkha, NH 8, K...  28.525118  77.100226   \n",
       "53    Near Rapid Metro Pillar 141, Golf Course Road,...  28.448130  77.100745   \n",
       "...                                                 ...        ...        ...   \n",
       "1928       Stalls A-F, DDA Market, Jail Road, New Delhi  28.631387  77.098122   \n",
       "1930  The Suryaa New Delhi, New Friends Colony, New ...  28.561002  77.269392   \n",
       "1943  14/3, Old Delhi Gurgaon Road, Near Infocity, S...  28.508292  77.071902   \n",
       "1950  Shop 3, U51/44, Ground Floor, U Block, DLF Pha...  28.491887  77.093789   \n",
       "1961  F-1, Lower Ground 2, Mrignaini Chowk, Dilshad ...  28.684101  77.326725   \n",
       "\n",
       "                                             Speciality  \\\n",
       "8     Orange Kulfi, Jamun Kulfi, Mixed Fruit, Fruit ...   \n",
       "35    Buffet, Chocolate Cake, Thai Curry, Salads, Vi...   \n",
       "48    Elderflower Cocktail, Thai Mojito, Cappuccino ...   \n",
       "49                                                  NaN   \n",
       "53                                                  NaN   \n",
       "...                                                 ...   \n",
       "1928  Achari Chaap, Malai Chaap, Shahi Paneer, Dal M...   \n",
       "1930  Sophisticated, Live Kitchen, Chef, Great Servi...   \n",
       "1943  Crowd, Environment, Good Ambience, Music, Grea...   \n",
       "1950                                                NaN   \n",
       "1961  Kerala Parotta, Roasted Chicken, Chicken Curry...   \n",
       "\n",
       "                                               Feedback  \\\n",
       "8     Bank for the Buck, Totally Worth it, Table Ser...   \n",
       "35    Outside Deck, Poolside View, Sophisticated, Am...   \n",
       "48    Great Taste Value for Money, Good Quality with...   \n",
       "49                                                  NaN   \n",
       "53                                                  NaN   \n",
       "...                                                 ...   \n",
       "1928                                                NaN   \n",
       "1930                                                NaN   \n",
       "1943                                                NaN   \n",
       "1950                                                NaN   \n",
       "1961  Lip Smacking Food, Amazing Food, Owner, Good P...   \n",
       "\n",
       "      Missing_Delivery_Rating  \n",
       "8                           1  \n",
       "35                          1  \n",
       "48                          1  \n",
       "49                          1  \n",
       "53                          1  \n",
       "...                       ...  \n",
       "1928                        1  \n",
       "1930                        1  \n",
       "1943                        1  \n",
       "1950                        1  \n",
       "1961                        1  \n",
       "\n",
       "[148 rows x 14 columns]"
      ]
     },
     "execution_count": 12,
     "metadata": {},
     "output_type": "execute_result"
    }
   ],
   "source": [
    "low_delivery_count = df[(df['Delivery_Rating_Count'] != 0)  &  (df['Delivery_Rating'] == 'New')]\n",
    "low_delivery_count"
   ]
  },
  {
   "cell_type": "code",
   "execution_count": 13,
   "metadata": {},
   "outputs": [
    {
     "data": {
      "text/plain": [
       "array([ 5,  1,  2,  9, 10,  6,  7,  3, 15, 17, 16, 13,  4, 12, 11,  8, 19,\n",
       "       23, 14, 18], dtype=int64)"
      ]
     },
     "execution_count": 13,
     "metadata": {},
     "output_type": "execute_result"
    }
   ],
   "source": [
    "low_delivery_count['Delivery_Rating_Count'].unique()"
   ]
  },
  {
   "cell_type": "markdown",
   "metadata": {},
   "source": [
    "## The maximum Delivery_Rating_Count is '23' which have null value in Delivery_Rating Feature, this might be because of the reason that there must be some minimum count after which the rating is assigned to the restaurants."
   ]
  },
  {
   "cell_type": "markdown",
   "metadata": {},
   "source": [
    "# **"
   ]
  },
  {
   "cell_type": "markdown",
   "metadata": {},
   "source": [
    "## Imputing missing values in Speciality & Reviews feature"
   ]
  },
  {
   "cell_type": "code",
   "execution_count": 14,
   "metadata": {},
   "outputs": [],
   "source": [
    "df['Speciality'].fillna('NA', inplace=True)"
   ]
  },
  {
   "cell_type": "code",
   "execution_count": 15,
   "metadata": {},
   "outputs": [],
   "source": [
    "df['Feedback'].fillna('NA', inplace=True)"
   ]
  },
  {
   "cell_type": "code",
   "execution_count": 16,
   "metadata": {},
   "outputs": [
    {
     "data": {
      "text/plain": [
       "Restaurant_Name            0\n",
       "Category                   0\n",
       "Pricing_for_2              0\n",
       "Locality                   0\n",
       "Dining_Rating              0\n",
       "Dining_Review_Count        0\n",
       "Delivery_Rating            0\n",
       "Delivery_Rating_Count      0\n",
       "Address                    0\n",
       "Latitude                   0\n",
       "Longitude                  0\n",
       "Speciality                 0\n",
       "Feedback                   0\n",
       "Missing_Delivery_Rating    0\n",
       "dtype: int64"
      ]
     },
     "execution_count": 16,
     "metadata": {},
     "output_type": "execute_result"
    }
   ],
   "source": [
    "df.isnull().sum()"
   ]
  },
  {
   "cell_type": "code",
   "execution_count": 17,
   "metadata": {},
   "outputs": [
    {
     "data": {
      "text/plain": [
       "Restaurant_Name                                                     Rustom's\n",
       "Category                   Parsi, Street Food, North Indian, Desserts, Be...\n",
       "Pricing_for_2                                                           2100\n",
       "Locality                                                      ITO, New Delhi\n",
       "Dining_Rating                                                            4.9\n",
       "Dining_Review_Count                                                     1885\n",
       "Delivery_Rating                                                          4.4\n",
       "Delivery_Rating_Count                                                   1844\n",
       "Address                    Delhi Parsi Anjuman, LNJP Colony, Bahadur Shah...\n",
       "Latitude                                                             28.6382\n",
       "Longitude                                                            77.2405\n",
       "Speciality                                                                NA\n",
       "Feedback                                                                  NA\n",
       "Missing_Delivery_Rating                                                    0\n",
       "Name: 0, dtype: object"
      ]
     },
     "execution_count": 17,
     "metadata": {},
     "output_type": "execute_result"
    }
   ],
   "source": [
    "# Features of an observation having maximum Dining rating\n",
    "df.loc[df['Dining_Rating'].idxmax()]"
   ]
  },
  {
   "cell_type": "code",
   "execution_count": 18,
   "metadata": {},
   "outputs": [
    {
     "data": {
      "text/plain": [
       "Restaurant_Name                                              Bo Tai - Switch\n",
       "Category                                         Asian, Thai, Chinese, Pizza\n",
       "Pricing_for_2                                                           2500\n",
       "Locality                                        Parliament Street, New Delhi\n",
       "Dining_Rating                                                            3.9\n",
       "Dining_Review_Count                                                      153\n",
       "Delivery_Rating                                                          New\n",
       "Delivery_Rating_Count                                                      0\n",
       "Address                        19, Ashoka Road, Parliament Street, New Delhi\n",
       "Latitude                                                              28.621\n",
       "Longitude                                                            77.2182\n",
       "Speciality                 Veg Creamy Pasta, Chocolate Pyramid Pastry, Pi...\n",
       "Feedback                   Good for Families, Parking Space Available, Co...\n",
       "Missing_Delivery_Rating                                                    1\n",
       "Name: 1631, dtype: object"
      ]
     },
     "execution_count": 18,
     "metadata": {},
     "output_type": "execute_result"
    }
   ],
   "source": [
    "# Features of an observation having minimum Dining rating\n",
    "df.loc[df['Dining_Rating'].idxmin()]"
   ]
  },
  {
   "cell_type": "code",
   "execution_count": 19,
   "metadata": {},
   "outputs": [
    {
     "data": {
      "text/plain": [
       "array(['Parsi, Street Food, North Indian, Desserts, Beverages',\n",
       "       'Cafe, South Indian, North Indian, Beverages',\n",
       "       'Mughlai, North Indian, Desserts', ...,\n",
       "       'Frozen Yogurt, Desserts, Beverages',\n",
       "       'Mughlai, North Indian, Chinese, Fast Food',\n",
       "       'Cafe, North Indian, Chinese, Kashmiri, Rolls, Pizza, Beverages'],\n",
       "      dtype=object)"
      ]
     },
     "execution_count": 19,
     "metadata": {},
     "output_type": "execute_result"
    }
   ],
   "source": [
    "df.Category.unique()"
   ]
  },
  {
   "cell_type": "code",
   "execution_count": 20,
   "metadata": {},
   "outputs": [
    {
     "data": {
      "text/plain": [
       "North Indian                                                               88\n",
       "North Indian, Chinese                                                      39\n",
       "North Indian, Mughlai                                                      37\n",
       "Pizza, Fast Food                                                           19\n",
       "North Indian, Chinese, Fast Food                                           17\n",
       "                                                                           ..\n",
       "Cafe, Fast Food, Beverages, Pasta, Pizza, Italian                           1\n",
       "Street Food, Fast Food, Chinese, North Indian, Desserts, Beverages          1\n",
       "Mithai, Fast Food, Street Food, North Indian                                1\n",
       "Beverages, European, Italian, Desserts                                      1\n",
       "North Indian, Fast Food, Chinese, Italian, Mexican, Beverages, Desserts     1\n",
       "Name: Category, Length: 1355, dtype: int64"
      ]
     },
     "execution_count": 20,
     "metadata": {},
     "output_type": "execute_result"
    }
   ],
   "source": [
    "df.Category.value_counts()"
   ]
  },
  {
   "cell_type": "code",
   "execution_count": 21,
   "metadata": {},
   "outputs": [],
   "source": [
    "# Top Categories\n",
    "category_count = []\n",
    "\n",
    "for v in df.Category.values:\n",
    "    if isinstance(v,str):\n",
    "        cat = v.split(',')\n",
    "        for c in cat:\n",
    "            category_count.append(c.strip())"
   ]
  },
  {
   "cell_type": "code",
   "execution_count": 22,
   "metadata": {},
   "outputs": [
    {
     "data": {
      "application/javascript": [
       "\n",
       "        if (window._pyforest_update_imports_cell) { window._pyforest_update_imports_cell('import pandas as pd\\nimport numpy as np'); }\n",
       "    "
      ],
      "text/plain": [
       "<IPython.core.display.Javascript object>"
      ]
     },
     "metadata": {},
     "output_type": "display_data"
    },
    {
     "data": {
      "text/plain": [
       "North Indian     1063\n",
       "Chinese           775\n",
       "Beverages         726\n",
       "Fast Food         605\n",
       "Desserts          425\n",
       "                 ... \n",
       "Indonesian          1\n",
       "Mangalorean         1\n",
       "Portuguese          1\n",
       "Roast Chicken       1\n",
       "Frozen Yogurt       1\n",
       "Length: 90, dtype: int64"
      ]
     },
     "execution_count": 22,
     "metadata": {},
     "output_type": "execute_result"
    }
   ],
   "source": [
    "pd.Series(category_count).value_counts()"
   ]
  },
  {
   "cell_type": "markdown",
   "metadata": {},
   "source": [
    "## Top 20 categories"
   ]
  },
  {
   "cell_type": "code",
   "execution_count": 23,
   "metadata": {},
   "outputs": [
    {
     "data": {
      "application/javascript": [
       "\n",
       "        if (window._pyforest_update_imports_cell) { window._pyforest_update_imports_cell('import pandas as pd\\nimport seaborn as sns\\nimport numpy as np'); }\n",
       "    "
      ],
      "text/plain": [
       "<IPython.core.display.Javascript object>"
      ]
     },
     "metadata": {},
     "output_type": "display_data"
    },
    {
     "data": {
      "application/javascript": [
       "\n",
       "        if (window._pyforest_update_imports_cell) { window._pyforest_update_imports_cell('import pandas as pd\\nimport seaborn as sns\\nimport numpy as np'); }\n",
       "    "
      ],
      "text/plain": [
       "<IPython.core.display.Javascript object>"
      ]
     },
     "metadata": {},
     "output_type": "display_data"
    },
    {
     "data": {
      "application/javascript": [
       "\n",
       "        if (window._pyforest_update_imports_cell) { window._pyforest_update_imports_cell('import pandas as pd\\nimport matplotlib.pyplot as plt\\nimport seaborn as sns\\nimport numpy as np'); }\n",
       "    "
      ],
      "text/plain": [
       "<IPython.core.display.Javascript object>"
      ]
     },
     "metadata": {},
     "output_type": "display_data"
    },
    {
     "data": {
      "application/javascript": [
       "\n",
       "        if (window._pyforest_update_imports_cell) { window._pyforest_update_imports_cell('import pandas as pd\\nimport matplotlib.pyplot as plt\\nimport seaborn as sns\\nimport numpy as np'); }\n",
       "    "
      ],
      "text/plain": [
       "<IPython.core.display.Javascript object>"
      ]
     },
     "metadata": {},
     "output_type": "display_data"
    },
    {
     "data": {
      "application/javascript": [
       "\n",
       "        if (window._pyforest_update_imports_cell) { window._pyforest_update_imports_cell('import pandas as pd\\nimport matplotlib.pyplot as plt\\nimport seaborn as sns\\nimport numpy as np'); }\n",
       "    "
      ],
      "text/plain": [
       "<IPython.core.display.Javascript object>"
      ]
     },
     "metadata": {},
     "output_type": "display_data"
    },
    {
     "data": {
      "application/javascript": [
       "\n",
       "        if (window._pyforest_update_imports_cell) { window._pyforest_update_imports_cell('import pandas as pd\\nimport matplotlib.pyplot as plt\\nimport seaborn as sns\\nimport numpy as np'); }\n",
       "    "
      ],
      "text/plain": [
       "<IPython.core.display.Javascript object>"
      ]
     },
     "metadata": {},
     "output_type": "display_data"
    },
    {
     "data": {
      "application/javascript": [
       "\n",
       "        if (window._pyforest_update_imports_cell) { window._pyforest_update_imports_cell('import pandas as pd\\nimport matplotlib.pyplot as plt\\nimport seaborn as sns\\nimport numpy as np'); }\n",
       "    "
      ],
      "text/plain": [
       "<IPython.core.display.Javascript object>"
      ]
     },
     "metadata": {},
     "output_type": "display_data"
    },
    {
     "data": {
      "application/javascript": [
       "\n",
       "        if (window._pyforest_update_imports_cell) { window._pyforest_update_imports_cell('import pandas as pd\\nimport matplotlib.pyplot as plt\\nimport seaborn as sns\\nimport numpy as np'); }\n",
       "    "
      ],
      "text/plain": [
       "<IPython.core.display.Javascript object>"
      ]
     },
     "metadata": {},
     "output_type": "display_data"
    },
    {
     "data": {
      "application/javascript": [
       "\n",
       "        if (window._pyforest_update_imports_cell) { window._pyforest_update_imports_cell('import pandas as pd\\nimport matplotlib.pyplot as plt\\nimport seaborn as sns\\nimport numpy as np'); }\n",
       "    "
      ],
      "text/plain": [
       "<IPython.core.display.Javascript object>"
      ]
     },
     "metadata": {},
     "output_type": "display_data"
    },
    {
     "data": {
      "application/javascript": [
       "\n",
       "        if (window._pyforest_update_imports_cell) { window._pyforest_update_imports_cell('import pandas as pd\\nimport matplotlib.pyplot as plt\\nimport seaborn as sns\\nimport numpy as np'); }\n",
       "    "
      ],
      "text/plain": [
       "<IPython.core.display.Javascript object>"
      ]
     },
     "metadata": {},
     "output_type": "display_data"
    },
    {
     "data": {
      "application/javascript": [
       "\n",
       "        if (window._pyforest_update_imports_cell) { window._pyforest_update_imports_cell('import pandas as pd\\nimport matplotlib.pyplot as plt\\nimport seaborn as sns\\nimport numpy as np'); }\n",
       "    "
      ],
      "text/plain": [
       "<IPython.core.display.Javascript object>"
      ]
     },
     "metadata": {},
     "output_type": "display_data"
    },
    {
     "data": {
      "application/javascript": [
       "\n",
       "        if (window._pyforest_update_imports_cell) { window._pyforest_update_imports_cell('import pandas as pd\\nimport matplotlib.pyplot as plt\\nimport seaborn as sns\\nimport numpy as np'); }\n",
       "    "
      ],
      "text/plain": [
       "<IPython.core.display.Javascript object>"
      ]
     },
     "metadata": {},
     "output_type": "display_data"
    },
    {
     "data": {
      "application/javascript": [
       "\n",
       "        if (window._pyforest_update_imports_cell) { window._pyforest_update_imports_cell('import pandas as pd\\nimport matplotlib.pyplot as plt\\nimport seaborn as sns\\nimport numpy as np'); }\n",
       "    "
      ],
      "text/plain": [
       "<IPython.core.display.Javascript object>"
      ]
     },
     "metadata": {},
     "output_type": "display_data"
    },
    {
     "data": {
      "application/javascript": [
       "\n",
       "        if (window._pyforest_update_imports_cell) { window._pyforest_update_imports_cell('import pandas as pd\\nimport matplotlib.pyplot as plt\\nimport seaborn as sns\\nimport numpy as np'); }\n",
       "    "
      ],
      "text/plain": [
       "<IPython.core.display.Javascript object>"
      ]
     },
     "metadata": {},
     "output_type": "display_data"
    },
    {
     "data": {
      "application/javascript": [
       "\n",
       "        if (window._pyforest_update_imports_cell) { window._pyforest_update_imports_cell('import pandas as pd\\nimport matplotlib.pyplot as plt\\nimport seaborn as sns\\nimport numpy as np'); }\n",
       "    "
      ],
      "text/plain": [
       "<IPython.core.display.Javascript object>"
      ]
     },
     "metadata": {},
     "output_type": "display_data"
    },
    {
     "data": {
      "application/javascript": [
       "\n",
       "        if (window._pyforest_update_imports_cell) { window._pyforest_update_imports_cell('import pandas as pd\\nimport matplotlib.pyplot as plt\\nimport seaborn as sns\\nimport numpy as np'); }\n",
       "    "
      ],
      "text/plain": [
       "<IPython.core.display.Javascript object>"
      ]
     },
     "metadata": {},
     "output_type": "display_data"
    },
    {
     "data": {
      "application/javascript": [
       "\n",
       "        if (window._pyforest_update_imports_cell) { window._pyforest_update_imports_cell('import pandas as pd\\nimport matplotlib.pyplot as plt\\nimport seaborn as sns\\nimport numpy as np'); }\n",
       "    "
      ],
      "text/plain": [
       "<IPython.core.display.Javascript object>"
      ]
     },
     "metadata": {},
     "output_type": "display_data"
    },
    {
     "data": {
      "application/javascript": [
       "\n",
       "        if (window._pyforest_update_imports_cell) { window._pyforest_update_imports_cell('import pandas as pd\\nimport matplotlib.pyplot as plt\\nimport seaborn as sns\\nimport numpy as np'); }\n",
       "    "
      ],
      "text/plain": [
       "<IPython.core.display.Javascript object>"
      ]
     },
     "metadata": {},
     "output_type": "display_data"
    },
    {
     "data": {
      "application/javascript": [
       "\n",
       "        if (window._pyforest_update_imports_cell) { window._pyforest_update_imports_cell('import pandas as pd\\nimport matplotlib.pyplot as plt\\nimport seaborn as sns\\nimport numpy as np'); }\n",
       "    "
      ],
      "text/plain": [
       "<IPython.core.display.Javascript object>"
      ]
     },
     "metadata": {},
     "output_type": "display_data"
    },
    {
     "data": {
      "application/javascript": [
       "\n",
       "        if (window._pyforest_update_imports_cell) { window._pyforest_update_imports_cell('import pandas as pd\\nimport matplotlib.pyplot as plt\\nimport seaborn as sns\\nimport numpy as np'); }\n",
       "    "
      ],
      "text/plain": [
       "<IPython.core.display.Javascript object>"
      ]
     },
     "metadata": {},
     "output_type": "display_data"
    },
    {
     "data": {
      "application/javascript": [
       "\n",
       "        if (window._pyforest_update_imports_cell) { window._pyforest_update_imports_cell('import pandas as pd\\nimport matplotlib.pyplot as plt\\nimport seaborn as sns\\nimport numpy as np'); }\n",
       "    "
      ],
      "text/plain": [
       "<IPython.core.display.Javascript object>"
      ]
     },
     "metadata": {},
     "output_type": "display_data"
    },
    {
     "data": {
      "application/javascript": [
       "\n",
       "        if (window._pyforest_update_imports_cell) { window._pyforest_update_imports_cell('import pandas as pd\\nimport matplotlib.pyplot as plt\\nimport seaborn as sns\\nimport numpy as np'); }\n",
       "    "
      ],
      "text/plain": [
       "<IPython.core.display.Javascript object>"
      ]
     },
     "metadata": {},
     "output_type": "display_data"
    },
    {
     "data": {
      "application/javascript": [
       "\n",
       "        if (window._pyforest_update_imports_cell) { window._pyforest_update_imports_cell('import pandas as pd\\nimport matplotlib.pyplot as plt\\nimport seaborn as sns\\nimport numpy as np'); }\n",
       "    "
      ],
      "text/plain": [
       "<IPython.core.display.Javascript object>"
      ]
     },
     "metadata": {},
     "output_type": "display_data"
    },
    {
     "data": {
      "application/javascript": [
       "\n",
       "        if (window._pyforest_update_imports_cell) { window._pyforest_update_imports_cell('import pandas as pd\\nimport matplotlib.pyplot as plt\\nimport seaborn as sns\\nimport numpy as np'); }\n",
       "    "
      ],
      "text/plain": [
       "<IPython.core.display.Javascript object>"
      ]
     },
     "metadata": {},
     "output_type": "display_data"
    },
    {
     "data": {
      "application/javascript": [
       "\n",
       "        if (window._pyforest_update_imports_cell) { window._pyforest_update_imports_cell('import pandas as pd\\nimport matplotlib.pyplot as plt\\nimport seaborn as sns\\nimport numpy as np'); }\n",
       "    "
      ],
      "text/plain": [
       "<IPython.core.display.Javascript object>"
      ]
     },
     "metadata": {},
     "output_type": "display_data"
    },
    {
     "data": {
      "application/javascript": [
       "\n",
       "        if (window._pyforest_update_imports_cell) { window._pyforest_update_imports_cell('import pandas as pd\\nimport matplotlib.pyplot as plt\\nimport seaborn as sns\\nimport numpy as np'); }\n",
       "    "
      ],
      "text/plain": [
       "<IPython.core.display.Javascript object>"
      ]
     },
     "metadata": {},
     "output_type": "display_data"
    },
    {
     "data": {
      "application/javascript": [
       "\n",
       "        if (window._pyforest_update_imports_cell) { window._pyforest_update_imports_cell('import pandas as pd\\nimport matplotlib.pyplot as plt\\nimport seaborn as sns\\nimport numpy as np'); }\n",
       "    "
      ],
      "text/plain": [
       "<IPython.core.display.Javascript object>"
      ]
     },
     "metadata": {},
     "output_type": "display_data"
    },
    {
     "data": {
      "image/png": "[encoded data removed]",
      "text/plain": [
       "<Figure size 864x360 with 1 Axes>"
      ]
     },
     "metadata": {},
     "output_type": "display_data"
    }
   ],
   "source": [
    "sns.set(style='whitegrid')\n",
    "ax = pd.Series(category_count).value_counts()[:20].plot(kind='bar', rot=45, figsize=(12,5),color = 'darkkhaki')\n",
    "plt.title('Top 20 Categories', fontsize=15, color='navy')\n",
    "plt.xlabel('Categories')\n",
    "plt.ylabel('Counts')\n",
    "plt.ylim(0,1200)\n",
    "for idx, val in enumerate(pd.Series(category_count).value_counts()[:20]):\n",
    "    plt.text(x = idx-0.3, y= val+20, s=val, color='black', fontsize=11)"
   ]
  },
  {
   "cell_type": "markdown",
   "metadata": {},
   "source": [
    "## Pricing Category"
   ]
  },
  {
   "cell_type": "code",
   "execution_count": 24,
   "metadata": {},
   "outputs": [
    {
     "data": {
      "text/plain": [
       "500     238\n",
       "400     159\n",
       "600     156\n",
       "300     132\n",
       "800     100\n",
       "700      96\n",
       "1000     93\n",
       "1500     79\n",
       "2000     63\n",
       "1200     63\n",
       "1800     58\n",
       "1600     56\n",
       "450      51\n",
       "350      50\n",
       "1400     45\n",
       "2500     40\n",
       "3000     39\n",
       "1300     37\n",
       "900      35\n",
       "200      34\n",
       "1700     31\n",
       "550      26\n",
       "3500     24\n",
       "1100     23\n",
       "650      23\n",
       "1900     22\n",
       "250      21\n",
       "2100     19\n",
       "150      17\n",
       "2200     17\n",
       "850      15\n",
       "4000     12\n",
       "750      12\n",
       "4500     11\n",
       "2300      9\n",
       "2400      7\n",
       "5000      6\n",
       "3200      6\n",
       "2800      4\n",
       "5500      4\n",
       "3800      4\n",
       "2600      3\n",
       "100       3\n",
       "950       3\n",
       "3600      2\n",
       "3400      2\n",
       "3300      2\n",
       "3100      2\n",
       "6500      1\n",
       "6600      1\n",
       "5100      1\n",
       "3900      1\n",
       "4300      1\n",
       "8000      1\n",
       "2700      1\n",
       "4800      1\n",
       "4200      1\n",
       "7000      1\n",
       "2900      1\n",
       "Name: Pricing_for_2, dtype: int64"
      ]
     },
     "execution_count": 24,
     "metadata": {},
     "output_type": "execute_result"
    }
   ],
   "source": [
    "df['Pricing_for_2'].value_counts()"
   ]
  },
  {
   "cell_type": "code",
   "execution_count": 25,
   "metadata": {},
   "outputs": [
    {
     "data": {
      "application/javascript": [
       "\n",
       "        if (window._pyforest_update_imports_cell) { window._pyforest_update_imports_cell('import pandas as pd\\nimport matplotlib.pyplot as plt\\nimport seaborn as sns\\nimport numpy as np'); }\n",
       "    "
      ],
      "text/plain": [
       "<IPython.core.display.Javascript object>"
      ]
     },
     "metadata": {},
     "output_type": "display_data"
    }
   ],
   "source": [
    "label = ['cost<500', '500-1000','1000-1500', '1500-2000', '2000-2500', '2500-3000', '3000-4000',\n",
    "         '4000-5000', 'cost>5000']\n",
    "\n",
    "df['Cost_for_2']= pd.cut(df['Pricing_for_2'], \n",
    "                         bins=[0,500,1000,1500,2000,2500,3000,4000,5000,8000],\n",
    "                         labels = label)"
   ]
  },
  {
   "cell_type": "code",
   "execution_count": 26,
   "metadata": {},
   "outputs": [
    {
     "data": {
      "application/javascript": [
       "\n",
       "        if (window._pyforest_update_imports_cell) { window._pyforest_update_imports_cell('import pandas as pd\\nimport matplotlib.pyplot as plt\\nimport seaborn as sns\\nimport numpy as np'); }\n",
       "    "
      ],
      "text/plain": [
       "<IPython.core.display.Javascript object>"
      ]
     },
     "metadata": {},
     "output_type": "display_data"
    },
    {
     "data": {
      "application/javascript": [
       "\n",
       "        if (window._pyforest_update_imports_cell) { window._pyforest_update_imports_cell('import pandas as pd\\nimport matplotlib.pyplot as plt\\nimport seaborn as sns\\nimport numpy as np'); }\n",
       "    "
      ],
      "text/plain": [
       "<IPython.core.display.Javascript object>"
      ]
     },
     "metadata": {},
     "output_type": "display_data"
    },
    {
     "data": {
      "application/javascript": [
       "\n",
       "        if (window._pyforest_update_imports_cell) { window._pyforest_update_imports_cell('import pandas as pd\\nimport matplotlib.pyplot as plt\\nimport seaborn as sns\\nimport numpy as np'); }\n",
       "    "
      ],
      "text/plain": [
       "<IPython.core.display.Javascript object>"
      ]
     },
     "metadata": {},
     "output_type": "display_data"
    },
    {
     "data": {
      "image/png": "[encoded data removed]",
      "text/plain": [
       "<Figure size 720x432 with 1 Axes>"
      ]
     },
     "metadata": {},
     "output_type": "display_data"
    }
   ],
   "source": [
    "c = ['sienna', 'darksalmon', 'darkcyan', 'indigo', 'orange', 'grey','peru', 'olive', 'black']\n",
    "ax = df['Cost_for_2'].value_counts().plot(kind='bar', figsize=(10,6), color=c)\n",
    "plt.title('Cost labels')\n",
    "plt.ylim(0,800)\n",
    "for p in ax.patches:\n",
    "    ax.annotate(int(p.get_height()), (p.get_x()+0.1, p.get_height()+1), va='bottom', color='brown')\n",
    "plt.show()"
   ]
  },
  {
   "cell_type": "markdown",
   "metadata": {},
   "source": [
    "### Categorizing Price ranges"
   ]
  },
  {
   "cell_type": "code",
   "execution_count": 27,
   "metadata": {},
   "outputs": [],
   "source": [
    "def price_range(Pricing_for_2):\n",
    "    if Pricing_for_2 <= 1000:\n",
    "        return 'Budget Friendly'\n",
    "    elif Pricing_for_2 > 1000 and Pricing_for_2 <= 3000:\n",
    "        return 'Mid Range'\n",
    "    elif Pricing_for_2 > 3000 and Pricing_for_2 <= 5000:\n",
    "        return 'Expensive'\n",
    "    else:\n",
    "        return 'Elite'"
   ]
  },
  {
   "cell_type": "code",
   "execution_count": 28,
   "metadata": {},
   "outputs": [],
   "source": [
    "df['price_range_classification']= df.apply(lambda x : price_range(x['Pricing_for_2']), axis=1)"
   ]
  },
  {
   "cell_type": "code",
   "execution_count": 29,
   "metadata": {},
   "outputs": [
    {
     "data": {
      "application/javascript": [
       "\n",
       "        if (window._pyforest_update_imports_cell) { window._pyforest_update_imports_cell('import pandas as pd\\nimport matplotlib.pyplot as plt\\nimport seaborn as sns\\nimport numpy as np'); }\n",
       "    "
      ],
      "text/plain": [
       "<IPython.core.display.Javascript object>"
      ]
     },
     "metadata": {},
     "output_type": "display_data"
    },
    {
     "data": {
      "application/javascript": [
       "\n",
       "        if (window._pyforest_update_imports_cell) { window._pyforest_update_imports_cell('import pandas as pd\\nimport matplotlib.pyplot as plt\\nimport seaborn as sns\\nimport numpy as np'); }\n",
       "    "
      ],
      "text/plain": [
       "<IPython.core.display.Javascript object>"
      ]
     },
     "metadata": {},
     "output_type": "display_data"
    },
    {
     "data": {
      "application/javascript": [
       "\n",
       "        if (window._pyforest_update_imports_cell) { window._pyforest_update_imports_cell('import pandas as pd\\nimport matplotlib.pyplot as plt\\nimport seaborn as sns\\nimport numpy as np'); }\n",
       "    "
      ],
      "text/plain": [
       "<IPython.core.display.Javascript object>"
      ]
     },
     "metadata": {},
     "output_type": "display_data"
    },
    {
     "data": {
      "application/javascript": [
       "\n",
       "        if (window._pyforest_update_imports_cell) { window._pyforest_update_imports_cell('import pandas as pd\\nimport matplotlib.pyplot as plt\\nimport seaborn as sns\\nimport numpy as np'); }\n",
       "    "
      ],
      "text/plain": [
       "<IPython.core.display.Javascript object>"
      ]
     },
     "metadata": {},
     "output_type": "display_data"
    },
    {
     "data": {
      "application/javascript": [
       "\n",
       "        if (window._pyforest_update_imports_cell) { window._pyforest_update_imports_cell('import pandas as pd\\nimport matplotlib.pyplot as plt\\nimport seaborn as sns\\nimport numpy as np'); }\n",
       "    "
      ],
      "text/plain": [
       "<IPython.core.display.Javascript object>"
      ]
     },
     "metadata": {},
     "output_type": "display_data"
    },
    {
     "data": {
      "application/javascript": [
       "\n",
       "        if (window._pyforest_update_imports_cell) { window._pyforest_update_imports_cell('import pandas as pd\\nimport matplotlib.pyplot as plt\\nimport seaborn as sns\\nimport numpy as np'); }\n",
       "    "
      ],
      "text/plain": [
       "<IPython.core.display.Javascript object>"
      ]
     },
     "metadata": {},
     "output_type": "display_data"
    },
    {
     "data": {
      "application/javascript": [
       "\n",
       "        if (window._pyforest_update_imports_cell) { window._pyforest_update_imports_cell('import pandas as pd\\nimport matplotlib.pyplot as plt\\nimport seaborn as sns\\nimport numpy as np'); }\n",
       "    "
      ],
      "text/plain": [
       "<IPython.core.display.Javascript object>"
      ]
     },
     "metadata": {},
     "output_type": "display_data"
    },
    {
     "data": {
      "image/png": "[encoded data removed]",
      "text/plain": [
       "<Figure size 432x288 with 1 Axes>"
      ]
     },
     "metadata": {},
     "output_type": "display_data"
    }
   ],
   "source": [
    "sns.set(style='whitegrid')\n",
    "ax = sns.countplot(x='price_range_classification', data=df, palette='cubehelix')\n",
    "plt.title('Restaurants counts as per price ranges')\n",
    "plt.xlabel('Price Range categories')\n",
    "plt.ylabel('Restaurant Counts')\n",
    "plt.ylim(0,1400)\n",
    "for p in ax.patches:\n",
    "    ax.annotate(int(p.get_height()), (p.get_x()+0.3, p.get_height()+1), va='bottom', color='black')\n",
    "plt.show()    "
   ]
  },
  {
   "cell_type": "markdown",
   "metadata": {},
   "source": [
    "### Dining Rating "
   ]
  },
  {
   "cell_type": "code",
   "execution_count": 30,
   "metadata": {},
   "outputs": [
    {
     "data": {
      "text/plain": [
       "4.0    453\n",
       "4.1    384\n",
       "3.9    334\n",
       "4.2    300\n",
       "4.3    199\n",
       "4.4    129\n",
       "4.5     79\n",
       "4.6     44\n",
       "4.7     24\n",
       "4.8     10\n",
       "4.9      9\n",
       "Name: Dining_Rating, dtype: int64"
      ]
     },
     "execution_count": 30,
     "metadata": {},
     "output_type": "execute_result"
    }
   ],
   "source": [
    "df['Dining_Rating'].value_counts()"
   ]
  },
  {
   "cell_type": "markdown",
   "metadata": {},
   "source": [
    "### Categorizing the Dining Rating"
   ]
  },
  {
   "cell_type": "code",
   "execution_count": 31,
   "metadata": {},
   "outputs": [
    {
     "data": {
      "application/javascript": [
       "\n",
       "        if (window._pyforest_update_imports_cell) { window._pyforest_update_imports_cell('import pandas as pd\\nimport matplotlib.pyplot as plt\\nimport seaborn as sns\\nimport numpy as np'); }\n",
       "    "
      ],
      "text/plain": [
       "<IPython.core.display.Javascript object>"
      ]
     },
     "metadata": {},
     "output_type": "display_data"
    }
   ],
   "source": [
    "df['Dining_rating_category']= pd.cut(df['Dining_Rating'], bins =[0, 3.9 , 4.4, 4.9 ],\n",
    "                                    labels = ['Average', 'Good', 'Excellent'])"
   ]
  },
  {
   "cell_type": "code",
   "execution_count": 32,
   "metadata": {},
   "outputs": [
    {
     "data": {
      "text/plain": [
       "Good         1465\n",
       "Average       334\n",
       "Excellent     166\n",
       "Name: Dining_rating_category, dtype: int64"
      ]
     },
     "execution_count": 32,
     "metadata": {},
     "output_type": "execute_result"
    }
   ],
   "source": [
    "df['Dining_rating_category'].value_counts() "
   ]
  },
  {
   "cell_type": "code",
   "execution_count": 33,
   "metadata": {},
   "outputs": [
    {
     "data": {
      "application/javascript": [
       "\n",
       "        if (window._pyforest_update_imports_cell) { window._pyforest_update_imports_cell('import pandas as pd\\nimport matplotlib.pyplot as plt\\nimport seaborn as sns\\nimport numpy as np'); }\n",
       "    "
      ],
      "text/plain": [
       "<IPython.core.display.Javascript object>"
      ]
     },
     "metadata": {},
     "output_type": "display_data"
    },
    {
     "data": {
      "application/javascript": [
       "\n",
       "        if (window._pyforest_update_imports_cell) { window._pyforest_update_imports_cell('import pandas as pd\\nimport matplotlib.pyplot as plt\\nimport seaborn as sns\\nimport numpy as np'); }\n",
       "    "
      ],
      "text/plain": [
       "<IPython.core.display.Javascript object>"
      ]
     },
     "metadata": {},
     "output_type": "display_data"
    },
    {
     "data": {
      "application/javascript": [
       "\n",
       "        if (window._pyforest_update_imports_cell) { window._pyforest_update_imports_cell('import pandas as pd\\nimport matplotlib.pyplot as plt\\nimport seaborn as sns\\nimport numpy as np'); }\n",
       "    "
      ],
      "text/plain": [
       "<IPython.core.display.Javascript object>"
      ]
     },
     "metadata": {},
     "output_type": "display_data"
    },
    {
     "data": {
      "image/png": "[encoded data removed]",
      "text/plain": [
       "<Figure size 432x288 with 1 Axes>"
      ]
     },
     "metadata": {},
     "output_type": "display_data"
    }
   ],
   "source": [
    "x = df['Dining_rating_category'].value_counts()\n",
    "color = ['yellowgreen', 'sienna', 'darksalmon']\n",
    "labels = ['Good', 'Average', 'Excellent']\n",
    "explode = (0.3,0.2,0)\n",
    "\n",
    "plt.pie(x, explode= explode, colors = color, labels = labels, autopct = '%1.2f%%', shadow=True)\n",
    "plt.axis('equal')\n",
    "plt.show()"
   ]
  },
  {
   "cell_type": "markdown",
   "metadata": {},
   "source": [
    "### The ratio of the Average restaurants must be reduced."
   ]
  },
  {
   "cell_type": "markdown",
   "metadata": {},
   "source": [
    "# ***"
   ]
  },
  {
   "cell_type": "markdown",
   "metadata": {},
   "source": [
    "### Delivery Rating"
   ]
  },
  {
   "cell_type": "code",
   "execution_count": 34,
   "metadata": {},
   "outputs": [
    {
     "data": {
      "text/plain": [
       "New    402\n",
       "3.9    304\n",
       "4.0    264\n",
       "4.1    253\n",
       "4.2    177\n",
       "3.8    140\n",
       "4.3    135\n",
       "3.7     99\n",
       "3.6     60\n",
       "3.5     50\n",
       "4.4     26\n",
       "3.4     20\n",
       "3.3     11\n",
       "4.5      8\n",
       "3.2      6\n",
       "3.1      5\n",
       "3.0      3\n",
       "2.9      1\n",
       "2.8      1\n",
       "Name: Delivery_Rating, dtype: int64"
      ]
     },
     "execution_count": 34,
     "metadata": {},
     "output_type": "execute_result"
    }
   ],
   "source": [
    "df['Delivery_Rating'].value_counts()"
   ]
  },
  {
   "cell_type": "code",
   "execution_count": 35,
   "metadata": {},
   "outputs": [],
   "source": [
    "def delivery_rating_cat(Delivery_Rating):\n",
    "    if Delivery_Rating == 'New':\n",
    "        return 'New'\n",
    "    elif Delivery_Rating <= 3.0:\n",
    "        return 'Below Average'\n",
    "    elif Delivery_Rating > 3.0 and Delivery_Rating <= 3.5:\n",
    "        return 'Average'\n",
    "    elif Delivery_Rating > 3.5 and Delivery_Rating <=4.0:\n",
    "        return 'Good'\n",
    "    else:\n",
    "        return 'Excellent'"
   ]
  },
  {
   "cell_type": "code",
   "execution_count": 36,
   "metadata": {},
   "outputs": [],
   "source": [
    "df['Delivery_rating_category'] = df.apply( lambda x : delivery_rating_cat(x['Delivery_Rating']), axis=1)"
   ]
  },
  {
   "cell_type": "code",
   "execution_count": 37,
   "metadata": {},
   "outputs": [
    {
     "data": {
      "text/html": [
       "<div>\n",
       "<style scoped>\n",
       "    .dataframe tbody tr th:only-of-type {\n",
       "        vertical-align: middle;\n",
       "    }\n",
       "\n",
       "    .dataframe tbody tr th {\n",
       "        vertical-align: top;\n",
       "    }\n",
       "\n",
       "    .dataframe thead th {\n",
       "        text-align: right;\n",
       "    }\n",
       "</style>\n",
       "<table border=\"1\" class=\"dataframe\">\n",
       "  <thead>\n",
       "    <tr style=\"text-align: right;\">\n",
       "      <th></th>\n",
       "      <th>Restaurant_Name</th>\n",
       "      <th>Category</th>\n",
       "      <th>Pricing_for_2</th>\n",
       "      <th>Locality</th>\n",
       "      <th>Dining_Rating</th>\n",
       "      <th>Dining_Review_Count</th>\n",
       "      <th>Delivery_Rating</th>\n",
       "      <th>Delivery_Rating_Count</th>\n",
       "      <th>Address</th>\n",
       "      <th>Latitude</th>\n",
       "      <th>Longitude</th>\n",
       "      <th>Speciality</th>\n",
       "      <th>Feedback</th>\n",
       "      <th>Missing_Delivery_Rating</th>\n",
       "      <th>Cost_for_2</th>\n",
       "      <th>price_range_classification</th>\n",
       "      <th>Dining_rating_category</th>\n",
       "      <th>Delivery_rating_category</th>\n",
       "    </tr>\n",
       "  </thead>\n",
       "  <tbody>\n",
       "    <tr>\n",
       "      <th>0</th>\n",
       "      <td>Rustom's</td>\n",
       "      <td>Parsi, Street Food, North Indian, Desserts, Be...</td>\n",
       "      <td>2100</td>\n",
       "      <td>ITO, New Delhi</td>\n",
       "      <td>4.9</td>\n",
       "      <td>1885</td>\n",
       "      <td>4.4</td>\n",
       "      <td>1844</td>\n",
       "      <td>Delhi Parsi Anjuman, LNJP Colony, Bahadur Shah...</td>\n",
       "      <td>28.638167</td>\n",
       "      <td>77.240472</td>\n",
       "      <td>NA</td>\n",
       "      <td>NA</td>\n",
       "      <td>0</td>\n",
       "      <td>2000-2500</td>\n",
       "      <td>Mid Range</td>\n",
       "      <td>Excellent</td>\n",
       "      <td>Excellent</td>\n",
       "    </tr>\n",
       "    <tr>\n",
       "      <th>1</th>\n",
       "      <td>Cafe Lota</td>\n",
       "      <td>Cafe, South Indian, North Indian, Beverages</td>\n",
       "      <td>1200</td>\n",
       "      <td>Pragati Maidan, New Delhi</td>\n",
       "      <td>4.9</td>\n",
       "      <td>3748</td>\n",
       "      <td>3.9</td>\n",
       "      <td>37</td>\n",
       "      <td>National Crafts Museum, Gate 2, Bhairon Marg, ...</td>\n",
       "      <td>28.613429</td>\n",
       "      <td>77.242471</td>\n",
       "      <td>Pondicherry Fish Curry, Coconut Rabdi, Sabudan...</td>\n",
       "      <td>Artistic Decor, The Service, Natural Ambience,...</td>\n",
       "      <td>0</td>\n",
       "      <td>1000-1500</td>\n",
       "      <td>Mid Range</td>\n",
       "      <td>Excellent</td>\n",
       "      <td>Good</td>\n",
       "    </tr>\n",
       "    <tr>\n",
       "      <th>2</th>\n",
       "      <td>Dum-Pukht - ITC Maurya</td>\n",
       "      <td>Mughlai, North Indian, Desserts</td>\n",
       "      <td>5000</td>\n",
       "      <td>ITC Maurya, Chanakyapuri, New Delhi</td>\n",
       "      <td>4.9</td>\n",
       "      <td>1371</td>\n",
       "      <td>New</td>\n",
       "      <td>0</td>\n",
       "      <td>ITC Maurya, Chanakyapuri, New Delhi</td>\n",
       "      <td>28.598200</td>\n",
       "      <td>77.173661</td>\n",
       "      <td>Royal ambiance and Mughlai cuisine, also recei...</td>\n",
       "      <td>NA</td>\n",
       "      <td>1</td>\n",
       "      <td>4000-5000</td>\n",
       "      <td>Expensive</td>\n",
       "      <td>Excellent</td>\n",
       "      <td>New</td>\n",
       "    </tr>\n",
       "    <tr>\n",
       "      <th>3</th>\n",
       "      <td>Burma Burma</td>\n",
       "      <td>Asian, Burmese, Bubble Tea, Desserts, Salad</td>\n",
       "      <td>1600</td>\n",
       "      <td>Cyber Hub, DLF Cyber City, Gurgaon</td>\n",
       "      <td>4.9</td>\n",
       "      <td>2636</td>\n",
       "      <td>4.4</td>\n",
       "      <td>1238</td>\n",
       "      <td>Shop 6, Ground Floor, Building 8, Tower C, Cyb...</td>\n",
       "      <td>28.494464</td>\n",
       "      <td>77.088532</td>\n",
       "      <td>Coconut Milk Dessert, Honey Caviar, Kaffir Lim...</td>\n",
       "      <td>Knowledgeable Staff, Authentic, Soothing Ambie...</td>\n",
       "      <td>0</td>\n",
       "      <td>1500-2000</td>\n",
       "      <td>Mid Range</td>\n",
       "      <td>Excellent</td>\n",
       "      <td>Excellent</td>\n",
       "    </tr>\n",
       "    <tr>\n",
       "      <th>4</th>\n",
       "      <td>The Big Chill</td>\n",
       "      <td>Continental, American, Italian</td>\n",
       "      <td>1500</td>\n",
       "      <td>Khan Market, New Delhi</td>\n",
       "      <td>4.9</td>\n",
       "      <td>6487</td>\n",
       "      <td>New</td>\n",
       "      <td>0</td>\n",
       "      <td>68-A, Khan Market, New Delhi</td>\n",
       "      <td>28.600350</td>\n",
       "      <td>77.227493</td>\n",
       "      <td>Irish Cream Tiramisu, Penne Vodka, Mississippi...</td>\n",
       "      <td>Retro Ambience, Yummy Desserts, Big Portions, ...</td>\n",
       "      <td>1</td>\n",
       "      <td>1000-1500</td>\n",
       "      <td>Mid Range</td>\n",
       "      <td>Excellent</td>\n",
       "      <td>New</td>\n",
       "    </tr>\n",
       "  </tbody>\n",
       "</table>\n",
       "</div>"
      ],
      "text/plain": [
       "          Restaurant_Name                                           Category  \\\n",
       "0                Rustom's  Parsi, Street Food, North Indian, Desserts, Be...   \n",
       "1               Cafe Lota        Cafe, South Indian, North Indian, Beverages   \n",
       "2  Dum-Pukht - ITC Maurya                    Mughlai, North Indian, Desserts   \n",
       "3             Burma Burma        Asian, Burmese, Bubble Tea, Desserts, Salad   \n",
       "4           The Big Chill                     Continental, American, Italian   \n",
       "\n",
       "   Pricing_for_2                              Locality  Dining_Rating  \\\n",
       "0           2100                        ITO, New Delhi            4.9   \n",
       "1           1200             Pragati Maidan, New Delhi            4.9   \n",
       "2           5000   ITC Maurya, Chanakyapuri, New Delhi            4.9   \n",
       "3           1600    Cyber Hub, DLF Cyber City, Gurgaon            4.9   \n",
       "4           1500                Khan Market, New Delhi            4.9   \n",
       "\n",
       "   Dining_Review_Count Delivery_Rating  Delivery_Rating_Count  \\\n",
       "0                 1885             4.4                   1844   \n",
       "1                 3748             3.9                     37   \n",
       "2                 1371             New                      0   \n",
       "3                 2636             4.4                   1238   \n",
       "4                 6487             New                      0   \n",
       "\n",
       "                                             Address   Latitude  Longitude  \\\n",
       "0  Delhi Parsi Anjuman, LNJP Colony, Bahadur Shah...  28.638167  77.240472   \n",
       "1  National Crafts Museum, Gate 2, Bhairon Marg, ...  28.613429  77.242471   \n",
       "2                ITC Maurya, Chanakyapuri, New Delhi  28.598200  77.173661   \n",
       "3  Shop 6, Ground Floor, Building 8, Tower C, Cyb...  28.494464  77.088532   \n",
       "4                       68-A, Khan Market, New Delhi  28.600350  77.227493   \n",
       "\n",
       "                                          Speciality  \\\n",
       "0                                                 NA   \n",
       "1  Pondicherry Fish Curry, Coconut Rabdi, Sabudan...   \n",
       "2  Royal ambiance and Mughlai cuisine, also recei...   \n",
       "3  Coconut Milk Dessert, Honey Caviar, Kaffir Lim...   \n",
       "4  Irish Cream Tiramisu, Penne Vodka, Mississippi...   \n",
       "\n",
       "                                            Feedback  Missing_Delivery_Rating  \\\n",
       "0                                                 NA                        0   \n",
       "1  Artistic Decor, The Service, Natural Ambience,...                        0   \n",
       "2                                                 NA                        1   \n",
       "3  Knowledgeable Staff, Authentic, Soothing Ambie...                        0   \n",
       "4  Retro Ambience, Yummy Desserts, Big Portions, ...                        1   \n",
       "\n",
       "  Cost_for_2 price_range_classification Dining_rating_category  \\\n",
       "0  2000-2500                  Mid Range              Excellent   \n",
       "1  1000-1500                  Mid Range              Excellent   \n",
       "2  4000-5000                  Expensive              Excellent   \n",
       "3  1500-2000                  Mid Range              Excellent   \n",
       "4  1000-1500                  Mid Range              Excellent   \n",
       "\n",
       "  Delivery_rating_category  \n",
       "0                Excellent  \n",
       "1                     Good  \n",
       "2                      New  \n",
       "3                Excellent  \n",
       "4                      New  "
      ]
     },
     "execution_count": 37,
     "metadata": {},
     "output_type": "execute_result"
    }
   ],
   "source": [
    "df.head()"
   ]
  },
  {
   "cell_type": "code",
   "execution_count": 38,
   "metadata": {},
   "outputs": [
    {
     "data": {
      "application/javascript": [
       "\n",
       "        if (window._pyforest_update_imports_cell) { window._pyforest_update_imports_cell('import pandas as pd\\nimport matplotlib.pyplot as plt\\nimport seaborn as sns\\nimport numpy as np'); }\n",
       "    "
      ],
      "text/plain": [
       "<IPython.core.display.Javascript object>"
      ]
     },
     "metadata": {},
     "output_type": "display_data"
    },
    {
     "data": {
      "application/javascript": [
       "\n",
       "        if (window._pyforest_update_imports_cell) { window._pyforest_update_imports_cell('import pandas as pd\\nimport matplotlib.pyplot as plt\\nimport seaborn as sns\\nimport numpy as np'); }\n",
       "    "
      ],
      "text/plain": [
       "<IPython.core.display.Javascript object>"
      ]
     },
     "metadata": {},
     "output_type": "display_data"
    },
    {
     "data": {
      "application/javascript": [
       "\n",
       "        if (window._pyforest_update_imports_cell) { window._pyforest_update_imports_cell('import pandas as pd\\nimport matplotlib.pyplot as plt\\nimport seaborn as sns\\nimport numpy as np'); }\n",
       "    "
      ],
      "text/plain": [
       "<IPython.core.display.Javascript object>"
      ]
     },
     "metadata": {},
     "output_type": "display_data"
    },
    {
     "data": {
      "application/javascript": [
       "\n",
       "        if (window._pyforest_update_imports_cell) { window._pyforest_update_imports_cell('import pandas as pd\\nimport matplotlib.pyplot as plt\\nimport seaborn as sns\\nimport numpy as np'); }\n",
       "    "
      ],
      "text/plain": [
       "<IPython.core.display.Javascript object>"
      ]
     },
     "metadata": {},
     "output_type": "display_data"
    },
    {
     "data": {
      "application/javascript": [
       "\n",
       "        if (window._pyforest_update_imports_cell) { window._pyforest_update_imports_cell('import pandas as pd\\nimport matplotlib.pyplot as plt\\nimport seaborn as sns\\nimport numpy as np'); }\n",
       "    "
      ],
      "text/plain": [
       "<IPython.core.display.Javascript object>"
      ]
     },
     "metadata": {},
     "output_type": "display_data"
    },
    {
     "data": {
      "image/png": "[encoded data removed]",
      "text/plain": [
       "<Figure size 432x288 with 1 Axes>"
      ]
     },
     "metadata": {},
     "output_type": "display_data"
    }
   ],
   "source": [
    "ax = sns.countplot(x='Delivery_rating_category', data=df, palette= 'gist_earth')\n",
    "plt.title('Delivery Rating Category Count ')\n",
    "plt.xlabel('Delivery Rating Categories')\n",
    "plt.ylim(0,1000)\n",
    "for p in ax.patches:\n",
    "    ax.annotate(int(p.get_height()), (p.get_x()+0.2, p.get_height()+1), va='bottom', color='black')\n",
    "plt.show()    "
   ]
  },
  {
   "cell_type": "code",
   "execution_count": 39,
   "metadata": {},
   "outputs": [
    {
     "data": {
      "text/html": [
       "<div>\n",
       "<style scoped>\n",
       "    .dataframe tbody tr th:only-of-type {\n",
       "        vertical-align: middle;\n",
       "    }\n",
       "\n",
       "    .dataframe tbody tr th {\n",
       "        vertical-align: top;\n",
       "    }\n",
       "\n",
       "    .dataframe thead th {\n",
       "        text-align: right;\n",
       "    }\n",
       "</style>\n",
       "<table border=\"1\" class=\"dataframe\">\n",
       "  <thead>\n",
       "    <tr style=\"text-align: right;\">\n",
       "      <th></th>\n",
       "      <th>Restaurant_Name</th>\n",
       "      <th>Category</th>\n",
       "      <th>Pricing_for_2</th>\n",
       "      <th>Locality</th>\n",
       "      <th>Dining_Rating</th>\n",
       "      <th>Dining_Review_Count</th>\n",
       "      <th>Delivery_Rating</th>\n",
       "      <th>Delivery_Rating_Count</th>\n",
       "      <th>Address</th>\n",
       "      <th>Latitude</th>\n",
       "      <th>Longitude</th>\n",
       "      <th>Speciality</th>\n",
       "      <th>Feedback</th>\n",
       "      <th>Missing_Delivery_Rating</th>\n",
       "      <th>Cost_for_2</th>\n",
       "      <th>price_range_classification</th>\n",
       "      <th>Dining_rating_category</th>\n",
       "      <th>Delivery_rating_category</th>\n",
       "    </tr>\n",
       "  </thead>\n",
       "  <tbody>\n",
       "    <tr>\n",
       "      <th>318</th>\n",
       "      <td>DEL - Roseate House</td>\n",
       "      <td>European, North Indian, Italian, Desserts, Con...</td>\n",
       "      <td>3000</td>\n",
       "      <td>Roseate House, Aerocity, New Delhi</td>\n",
       "      <td>4.3</td>\n",
       "      <td>971</td>\n",
       "      <td>2.8</td>\n",
       "      <td>16</td>\n",
       "      <td>Roseate House, Asset 10, Hospitality District,...</td>\n",
       "      <td>28.550801</td>\n",
       "      <td>77.121595</td>\n",
       "      <td>NA</td>\n",
       "      <td>NA</td>\n",
       "      <td>0</td>\n",
       "      <td>2500-3000</td>\n",
       "      <td>Mid Range</td>\n",
       "      <td>Good</td>\n",
       "      <td>Below Average</td>\n",
       "    </tr>\n",
       "    <tr>\n",
       "      <th>807</th>\n",
       "      <td>Unlocked - Bar.Kitchen.Escape Room</td>\n",
       "      <td>European, American, Italian, Continental, Dess...</td>\n",
       "      <td>1600</td>\n",
       "      <td>32nd Avenue, NH8, Gurgaon, Gurgaon</td>\n",
       "      <td>4.1</td>\n",
       "      <td>324</td>\n",
       "      <td>2.9</td>\n",
       "      <td>16</td>\n",
       "      <td>Unit 3, Ground Floor, 32nd Avenue, NH 8, Part ...</td>\n",
       "      <td>28.461628</td>\n",
       "      <td>77.049889</td>\n",
       "      <td>A restaurant offering a unique dining experien...</td>\n",
       "      <td>NA</td>\n",
       "      <td>0</td>\n",
       "      <td>1500-2000</td>\n",
       "      <td>Mid Range</td>\n",
       "      <td>Good</td>\n",
       "      <td>Below Average</td>\n",
       "    </tr>\n",
       "    <tr>\n",
       "      <th>1349</th>\n",
       "      <td>Social Affaire</td>\n",
       "      <td>Continental, American, Italian, North Indian, ...</td>\n",
       "      <td>2100</td>\n",
       "      <td>Karol Bagh, New Delhi</td>\n",
       "      <td>4.0</td>\n",
       "      <td>177</td>\n",
       "      <td>3</td>\n",
       "      <td>191</td>\n",
       "      <td>17A/12, Ground Floor, Pusa Road, Near Metro Pi...</td>\n",
       "      <td>28.645167</td>\n",
       "      <td>77.190291</td>\n",
       "      <td>Portions, Main Course, Great Food, Good Food, ...</td>\n",
       "      <td>NA</td>\n",
       "      <td>0</td>\n",
       "      <td>2000-2500</td>\n",
       "      <td>Mid Range</td>\n",
       "      <td>Good</td>\n",
       "      <td>Below Average</td>\n",
       "    </tr>\n",
       "    <tr>\n",
       "      <th>1741</th>\n",
       "      <td>Tandoori Garh</td>\n",
       "      <td>Chinese, North Indian, Rolls</td>\n",
       "      <td>700</td>\n",
       "      <td>Golf Course Extension, Gurgaon</td>\n",
       "      <td>3.9</td>\n",
       "      <td>120</td>\n",
       "      <td>3</td>\n",
       "      <td>48</td>\n",
       "      <td>Ullahawas, Baharampur Naya, CRPF Road, Sector ...</td>\n",
       "      <td>28.406601</td>\n",
       "      <td>77.091501</td>\n",
       "      <td>Good Portion Size, Good Wifi, Young Crowd, Ela...</td>\n",
       "      <td>NA</td>\n",
       "      <td>0</td>\n",
       "      <td>500-1000</td>\n",
       "      <td>Budget Friendly</td>\n",
       "      <td>Average</td>\n",
       "      <td>Below Average</td>\n",
       "    </tr>\n",
       "    <tr>\n",
       "      <th>1774</th>\n",
       "      <td>Darjeeling Fast Food</td>\n",
       "      <td>Chinese, Fast Food, Momos</td>\n",
       "      <td>150</td>\n",
       "      <td>NIT, Faridabad</td>\n",
       "      <td>3.9</td>\n",
       "      <td>197</td>\n",
       "      <td>3</td>\n",
       "      <td>789</td>\n",
       "      <td>1540-A/33 Foot Road, S.G.M Nagar, Near Wakil K...</td>\n",
       "      <td>28.405336</td>\n",
       "      <td>77.287605</td>\n",
       "      <td>Best Staff, Best in Service, Comforting Atmosp...</td>\n",
       "      <td>NA</td>\n",
       "      <td>0</td>\n",
       "      <td>cost&lt;500</td>\n",
       "      <td>Budget Friendly</td>\n",
       "      <td>Average</td>\n",
       "      <td>Below Average</td>\n",
       "    </tr>\n",
       "  </tbody>\n",
       "</table>\n",
       "</div>"
      ],
      "text/plain": [
       "                         Restaurant_Name  \\\n",
       "318                  DEL - Roseate House   \n",
       "807   Unlocked - Bar.Kitchen.Escape Room   \n",
       "1349                      Social Affaire   \n",
       "1741                       Tandoori Garh   \n",
       "1774                Darjeeling Fast Food   \n",
       "\n",
       "                                               Category  Pricing_for_2  \\\n",
       "318   European, North Indian, Italian, Desserts, Con...           3000   \n",
       "807   European, American, Italian, Continental, Dess...           1600   \n",
       "1349  Continental, American, Italian, North Indian, ...           2100   \n",
       "1741                       Chinese, North Indian, Rolls            700   \n",
       "1774                          Chinese, Fast Food, Momos            150   \n",
       "\n",
       "                                  Locality  Dining_Rating  \\\n",
       "318     Roseate House, Aerocity, New Delhi            4.3   \n",
       "807     32nd Avenue, NH8, Gurgaon, Gurgaon            4.1   \n",
       "1349                 Karol Bagh, New Delhi            4.0   \n",
       "1741        Golf Course Extension, Gurgaon            3.9   \n",
       "1774                        NIT, Faridabad            3.9   \n",
       "\n",
       "      Dining_Review_Count Delivery_Rating  Delivery_Rating_Count  \\\n",
       "318                   971             2.8                     16   \n",
       "807                   324             2.9                     16   \n",
       "1349                  177               3                    191   \n",
       "1741                  120               3                     48   \n",
       "1774                  197               3                    789   \n",
       "\n",
       "                                                Address   Latitude  Longitude  \\\n",
       "318   Roseate House, Asset 10, Hospitality District,...  28.550801  77.121595   \n",
       "807   Unit 3, Ground Floor, 32nd Avenue, NH 8, Part ...  28.461628  77.049889   \n",
       "1349  17A/12, Ground Floor, Pusa Road, Near Metro Pi...  28.645167  77.190291   \n",
       "1741  Ullahawas, Baharampur Naya, CRPF Road, Sector ...  28.406601  77.091501   \n",
       "1774  1540-A/33 Foot Road, S.G.M Nagar, Near Wakil K...  28.405336  77.287605   \n",
       "\n",
       "                                             Speciality Feedback  \\\n",
       "318                                                  NA       NA   \n",
       "807   A restaurant offering a unique dining experien...       NA   \n",
       "1349  Portions, Main Course, Great Food, Good Food, ...       NA   \n",
       "1741  Good Portion Size, Good Wifi, Young Crowd, Ela...       NA   \n",
       "1774  Best Staff, Best in Service, Comforting Atmosp...       NA   \n",
       "\n",
       "      Missing_Delivery_Rating Cost_for_2 price_range_classification  \\\n",
       "318                         0  2500-3000                  Mid Range   \n",
       "807                         0  1500-2000                  Mid Range   \n",
       "1349                        0  2000-2500                  Mid Range   \n",
       "1741                        0   500-1000            Budget Friendly   \n",
       "1774                        0   cost<500            Budget Friendly   \n",
       "\n",
       "     Dining_rating_category Delivery_rating_category  \n",
       "318                    Good            Below Average  \n",
       "807                    Good            Below Average  \n",
       "1349                   Good            Below Average  \n",
       "1741                Average            Below Average  \n",
       "1774                Average            Below Average  "
      ]
     },
     "execution_count": 39,
     "metadata": {},
     "output_type": "execute_result"
    }
   ],
   "source": [
    "df[df['Delivery_rating_category']== 'Below Average']"
   ]
  },
  {
   "cell_type": "markdown",
   "metadata": {},
   "source": [
    "### The disparity between the dining ratings & delivery ratings must be worked out as 3 of the above restaurants are good mid range restaurants but the delivery ratings are below average with missing reviews."
   ]
  },
  {
   "cell_type": "markdown",
   "metadata": {},
   "source": [
    "# ***"
   ]
  },
  {
   "cell_type": "code",
   "execution_count": 40,
   "metadata": {},
   "outputs": [
    {
     "data": {
      "application/javascript": [
       "\n",
       "        if (window._pyforest_update_imports_cell) { window._pyforest_update_imports_cell('import pandas as pd\\nimport matplotlib.pyplot as plt\\nimport seaborn as sns\\nimport numpy as np'); }\n",
       "    "
      ],
      "text/plain": [
       "<IPython.core.display.Javascript object>"
      ]
     },
     "metadata": {},
     "output_type": "display_data"
    },
    {
     "data": {
      "application/javascript": [
       "\n",
       "        if (window._pyforest_update_imports_cell) { window._pyforest_update_imports_cell('import pandas as pd\\nimport matplotlib.pyplot as plt\\nimport seaborn as sns\\nimport numpy as np'); }\n",
       "    "
      ],
      "text/plain": [
       "<IPython.core.display.Javascript object>"
      ]
     },
     "metadata": {},
     "output_type": "display_data"
    },
    {
     "data": {
      "application/javascript": [
       "\n",
       "        if (window._pyforest_update_imports_cell) { window._pyforest_update_imports_cell('import pandas as pd\\nimport matplotlib.pyplot as plt\\nimport seaborn as sns\\nimport numpy as np'); }\n",
       "    "
      ],
      "text/plain": [
       "<IPython.core.display.Javascript object>"
      ]
     },
     "metadata": {},
     "output_type": "display_data"
    },
    {
     "data": {
      "application/javascript": [
       "\n",
       "        if (window._pyforest_update_imports_cell) { window._pyforest_update_imports_cell('import pandas as pd\\nimport matplotlib.pyplot as plt\\nimport seaborn as sns\\nimport numpy as np'); }\n",
       "    "
      ],
      "text/plain": [
       "<IPython.core.display.Javascript object>"
      ]
     },
     "metadata": {},
     "output_type": "display_data"
    },
    {
     "data": {
      "application/javascript": [
       "\n",
       "        if (window._pyforest_update_imports_cell) { window._pyforest_update_imports_cell('import pandas as pd\\nimport matplotlib.pyplot as plt\\nimport seaborn as sns\\nimport numpy as np'); }\n",
       "    "
      ],
      "text/plain": [
       "<IPython.core.display.Javascript object>"
      ]
     },
     "metadata": {},
     "output_type": "display_data"
    },
    {
     "data": {
      "image/png": "[encoded data removed]",
      "text/plain": [
       "<Figure size 720x432 with 1 Axes>"
      ]
     },
     "metadata": {},
     "output_type": "display_data"
    }
   ],
   "source": [
    "# Top 10 Restaurant chains\n",
    "c = ['sienna', 'darksalmon', 'darkcyan', 'indigo', 'orange', 'grey','peru', 'olive', 'black','darkkhaki']\n",
    "ax = df['Restaurant_Name'].value_counts()[:10].plot(kind='bar', figsize=(10,6), color=c)\n",
    "plt.title('Restaurant Chains')\n",
    "plt.xlabel('Restaurant Name')\n",
    "plt.ylabel('Frequency')\n",
    "plt.ylim(0,6)\n",
    "for p in ax.patches:\n",
    "    ax.annotate(int(p.get_height()), (p.get_x()+0.2, p.get_height()+0.2), va='bottom', color='brown')\n",
    "plt.show()"
   ]
  },
  {
   "cell_type": "code",
   "execution_count": 41,
   "metadata": {},
   "outputs": [
    {
     "data": {
      "application/javascript": [
       "\n",
       "        if (window._pyforest_update_imports_cell) { window._pyforest_update_imports_cell('import pandas as pd\\nimport matplotlib.pyplot as plt\\nimport seaborn as sns\\nimport numpy as np'); }\n",
       "    "
      ],
      "text/plain": [
       "<IPython.core.display.Javascript object>"
      ]
     },
     "metadata": {},
     "output_type": "display_data"
    },
    {
     "data": {
      "application/javascript": [
       "\n",
       "        if (window._pyforest_update_imports_cell) { window._pyforest_update_imports_cell('import pandas as pd\\nimport matplotlib.pyplot as plt\\nimport seaborn as sns\\nimport numpy as np'); }\n",
       "    "
      ],
      "text/plain": [
       "<IPython.core.display.Javascript object>"
      ]
     },
     "metadata": {},
     "output_type": "display_data"
    },
    {
     "data": {
      "application/javascript": [
       "\n",
       "        if (window._pyforest_update_imports_cell) { window._pyforest_update_imports_cell('import pandas as pd\\nimport matplotlib.pyplot as plt\\nimport seaborn as sns\\nimport numpy as np'); }\n",
       "    "
      ],
      "text/plain": [
       "<IPython.core.display.Javascript object>"
      ]
     },
     "metadata": {},
     "output_type": "display_data"
    },
    {
     "data": {
      "application/javascript": [
       "\n",
       "        if (window._pyforest_update_imports_cell) { window._pyforest_update_imports_cell('import pandas as pd\\nimport matplotlib.pyplot as plt\\nimport seaborn as sns\\nimport numpy as np'); }\n",
       "    "
      ],
      "text/plain": [
       "<IPython.core.display.Javascript object>"
      ]
     },
     "metadata": {},
     "output_type": "display_data"
    },
    {
     "data": {
      "image/png": "[encoded data removed]",
      "text/plain": [
       "<Figure size 720x576 with 1 Axes>"
      ]
     },
     "metadata": {},
     "output_type": "display_data"
    }
   ],
   "source": [
    "# Top 10 Localities having Best rated restaurants\n",
    "r = df['Delivery_rating_category']=='Excellent'\n",
    "c = ['sienna', 'darksalmon', 'darkcyan', 'indigo', 'orange', 'grey','peru', 'olive', 'rosybrown','darkkhaki', 'yellowgreen']\n",
    "ax = df[r]['Locality'].value_counts()[:10].plot(kind='bar', figsize=(10,8), color=c)\n",
    "plt.title('Top 10 Localities having most best delivery rating restaurants', fontsize=15)\n",
    "plt.xlabel('Locality', fontsize=15)\n",
    "plt.ylim(0,18)\n",
    "for p in ax.patches:\n",
    "    ax.annotate(int(p.get_height()), (p.get_x()+0.2, p.get_height()+0.3), va='bottom', color='black')\n",
    "plt.show()    "
   ]
  },
  {
   "cell_type": "code",
   "execution_count": 42,
   "metadata": {},
   "outputs": [
    {
     "data": {
      "application/javascript": [
       "\n",
       "        if (window._pyforest_update_imports_cell) { window._pyforest_update_imports_cell('import pandas as pd\\nimport matplotlib.pyplot as plt\\nimport seaborn as sns\\nimport numpy as np'); }\n",
       "    "
      ],
      "text/plain": [
       "<IPython.core.display.Javascript object>"
      ]
     },
     "metadata": {},
     "output_type": "display_data"
    },
    {
     "data": {
      "application/javascript": [
       "\n",
       "        if (window._pyforest_update_imports_cell) { window._pyforest_update_imports_cell('import pandas as pd\\nimport matplotlib.pyplot as plt\\nimport seaborn as sns\\nimport numpy as np'); }\n",
       "    "
      ],
      "text/plain": [
       "<IPython.core.display.Javascript object>"
      ]
     },
     "metadata": {},
     "output_type": "display_data"
    },
    {
     "data": {
      "application/javascript": [
       "\n",
       "        if (window._pyforest_update_imports_cell) { window._pyforest_update_imports_cell('import pandas as pd\\nimport matplotlib.pyplot as plt\\nimport seaborn as sns\\nimport numpy as np'); }\n",
       "    "
      ],
      "text/plain": [
       "<IPython.core.display.Javascript object>"
      ]
     },
     "metadata": {},
     "output_type": "display_data"
    },
    {
     "data": {
      "application/javascript": [
       "\n",
       "        if (window._pyforest_update_imports_cell) { window._pyforest_update_imports_cell('import pandas as pd\\nimport matplotlib.pyplot as plt\\nimport seaborn as sns\\nimport numpy as np'); }\n",
       "    "
      ],
      "text/plain": [
       "<IPython.core.display.Javascript object>"
      ]
     },
     "metadata": {},
     "output_type": "display_data"
    },
    {
     "data": {
      "image/png": "[encoded data removed]",
      "text/plain": [
       "<Figure size 720x576 with 1 Axes>"
      ]
     },
     "metadata": {},
     "output_type": "display_data"
    }
   ],
   "source": [
    "d = df['Dining_rating_category']=='Excellent'\n",
    "c = ['sienna', 'darksalmon', 'darkcyan', 'indigo', 'orange', 'grey','peru', 'olive', 'rosybrown','darkkhaki', 'yellowgreen']\n",
    "ax = df[d]['Locality'].value_counts()[:10].plot(kind='bar', figsize=(10,8), color=c)\n",
    "plt.title('Top 10 Localities having most best Dining rating restaurants', fontsize=15)\n",
    "plt.xlabel('Locality', fontsize=15)\n",
    "plt.ylim(0,10)\n",
    "for p in ax.patches:\n",
    "    ax.annotate(int(p.get_height()), (p.get_x()+0.2, p.get_height()+0.3), va='bottom', color='black')\n",
    "plt.show()"
   ]
  },
  {
   "cell_type": "markdown",
   "metadata": {},
   "source": [
    "### Converting object features into lower case."
   ]
  },
  {
   "cell_type": "code",
   "execution_count": 43,
   "metadata": {},
   "outputs": [],
   "source": [
    "df['Address'] = df['Address'].apply( lambda x : x.lower())\n",
    "df['Category'] = df['Category'].apply( lambda x : x.lower())"
   ]
  },
  {
   "cell_type": "markdown",
   "metadata": {},
   "source": [
    "### Function to select restaurants based on 'user rating', 'food category' & 'location'."
   ]
  },
  {
   "cell_type": "code",
   "execution_count": 44,
   "metadata": {},
   "outputs": [],
   "source": [
    "def shortlist(Dining_Rating, Category, Address):\n",
    "    return df[(df['Dining_Rating'] >= Dining_Rating) & (df['Category'].str.contains(Category)) & \n",
    "              (df['Address'].str.contains(Address))]['Restaurant_Name'].values"
   ]
  },
  {
   "cell_type": "code",
   "execution_count": 45,
   "metadata": {},
   "outputs": [
    {
     "data": {
      "text/plain": [
       "array(['Fingerlickerz Bombaywala', 'Bowl King',\n",
       "       'Evergreen Restaurant & Sweet House', 'Bikaner Express',\n",
       "       'Swamy Dosa'], dtype=object)"
      ]
     },
     "execution_count": 45,
     "metadata": {},
     "output_type": "execute_result"
    }
   ],
   "source": [
    "shortlist(3.9, 'south indian', 'dwarka')"
   ]
  },
  {
   "cell_type": "markdown",
   "metadata": {},
   "source": [
    "### Re-ordering Columns"
   ]
  },
  {
   "cell_type": "code",
   "execution_count": 46,
   "metadata": {},
   "outputs": [
    {
     "data": {
      "text/plain": [
       "Index(['Restaurant_Name', 'Category', 'Pricing_for_2', 'Locality',\n",
       "       'Dining_Rating', 'Dining_Review_Count', 'Delivery_Rating',\n",
       "       'Delivery_Rating_Count', 'Address', 'Latitude', 'Longitude',\n",
       "       'Speciality', 'Feedback', 'Missing_Delivery_Rating', 'Cost_for_2',\n",
       "       'price_range_classification', 'Dining_rating_category',\n",
       "       'Delivery_rating_category'],\n",
       "      dtype='object')"
      ]
     },
     "execution_count": 46,
     "metadata": {},
     "output_type": "execute_result"
    }
   ],
   "source": [
    "df.columns"
   ]
  },
  {
   "cell_type": "code",
   "execution_count": 47,
   "metadata": {},
   "outputs": [],
   "source": [
    "reordered_columns =['Restaurant_Name', 'Category', 'Locality','Address','Pricing_for_2','Cost_for_2',\n",
    "                    'price_range_classification','Dining_Rating', 'Dining_Review_Count','Dining_rating_category',\n",
    "                    'Delivery_Rating','Delivery_Rating_Count','Delivery_rating_category','Latitude', 'Longitude',\n",
    "                    'Speciality', 'Feedback', 'Missing_Delivery_Rating']"
   ]
  },
  {
   "cell_type": "code",
   "execution_count": 48,
   "metadata": {},
   "outputs": [],
   "source": [
    "df = df[reordered_columns]"
   ]
  },
  {
   "cell_type": "code",
   "execution_count": 49,
   "metadata": {},
   "outputs": [
    {
     "data": {
      "text/html": [
       "<div>\n",
       "<style scoped>\n",
       "    .dataframe tbody tr th:only-of-type {\n",
       "        vertical-align: middle;\n",
       "    }\n",
       "\n",
       "    .dataframe tbody tr th {\n",
       "        vertical-align: top;\n",
       "    }\n",
       "\n",
       "    .dataframe thead th {\n",
       "        text-align: right;\n",
       "    }\n",
       "</style>\n",
       "<table border=\"1\" class=\"dataframe\">\n",
       "  <thead>\n",
       "    <tr style=\"text-align: right;\">\n",
       "      <th></th>\n",
       "      <th>Restaurant_Name</th>\n",
       "      <th>Category</th>\n",
       "      <th>Locality</th>\n",
       "      <th>Address</th>\n",
       "      <th>Pricing_for_2</th>\n",
       "      <th>Cost_for_2</th>\n",
       "      <th>price_range_classification</th>\n",
       "      <th>Dining_Rating</th>\n",
       "      <th>Dining_Review_Count</th>\n",
       "      <th>Dining_rating_category</th>\n",
       "      <th>Delivery_Rating</th>\n",
       "      <th>Delivery_Rating_Count</th>\n",
       "      <th>Delivery_rating_category</th>\n",
       "      <th>Latitude</th>\n",
       "      <th>Longitude</th>\n",
       "      <th>Speciality</th>\n",
       "      <th>Feedback</th>\n",
       "      <th>Missing_Delivery_Rating</th>\n",
       "    </tr>\n",
       "  </thead>\n",
       "  <tbody>\n",
       "    <tr>\n",
       "      <th>35</th>\n",
       "      <td>Threesixtyone Degrees - The Oberoi</td>\n",
       "      <td>asian, continental, north indian, mughlai, des...</td>\n",
       "      <td>The Oberoi, Udyog Vihar, Gurgaon</td>\n",
       "      <td>443, phase 5, udyog vihar, gurgaon</td>\n",
       "      <td>5500</td>\n",
       "      <td>cost&gt;5000</td>\n",
       "      <td>Elite</td>\n",
       "      <td>4.7</td>\n",
       "      <td>1019</td>\n",
       "      <td>Excellent</td>\n",
       "      <td>New</td>\n",
       "      <td>1</td>\n",
       "      <td>New</td>\n",
       "      <td>28.501983</td>\n",
       "      <td>77.086985</td>\n",
       "      <td>Buffet, Chocolate Cake, Thai Curry, Salads, Vi...</td>\n",
       "      <td>Outside Deck, Poolside View, Sophisticated, Am...</td>\n",
       "      <td>1</td>\n",
       "    </tr>\n",
       "    <tr>\n",
       "      <th>44</th>\n",
       "      <td>Bukhara - ITC Maurya</td>\n",
       "      <td>north indian, kebab</td>\n",
       "      <td>ITC Maurya, Chanakyapuri, New Delhi</td>\n",
       "      <td>itc maurya, chanakyapuri, new delhi</td>\n",
       "      <td>6500</td>\n",
       "      <td>cost&gt;5000</td>\n",
       "      <td>Elite</td>\n",
       "      <td>4.6</td>\n",
       "      <td>4657</td>\n",
       "      <td>Excellent</td>\n",
       "      <td>New</td>\n",
       "      <td>0</td>\n",
       "      <td>New</td>\n",
       "      <td>28.598216</td>\n",
       "      <td>77.173647</td>\n",
       "      <td>Sikanderi Raan, Meat Masala, Chicken Khurchan,...</td>\n",
       "      <td>Modern Vibe, Jazz Music, Sophisticated, Safe P...</td>\n",
       "      <td>1</td>\n",
       "    </tr>\n",
       "    <tr>\n",
       "      <th>49</th>\n",
       "      <td>Kiyan - The Roseate</td>\n",
       "      <td>thai, european, north indian, pizza, salad</td>\n",
       "      <td>The Roseate, Kapashera, New Delhi</td>\n",
       "      <td>the roseate, 21st milestone, samalkha, nh 8, k...</td>\n",
       "      <td>5500</td>\n",
       "      <td>cost&gt;5000</td>\n",
       "      <td>Elite</td>\n",
       "      <td>4.6</td>\n",
       "      <td>1124</td>\n",
       "      <td>Excellent</td>\n",
       "      <td>New</td>\n",
       "      <td>2</td>\n",
       "      <td>New</td>\n",
       "      <td>28.525118</td>\n",
       "      <td>77.100226</td>\n",
       "      <td>NA</td>\n",
       "      <td>NA</td>\n",
       "      <td>1</td>\n",
       "    </tr>\n",
       "    <tr>\n",
       "      <th>217</th>\n",
       "      <td>Ottimo At West View - ITC Maurya</td>\n",
       "      <td>european, italian</td>\n",
       "      <td>ITC Maurya, Chanakyapuri, New Delhi</td>\n",
       "      <td>itc maurya, chanakyapuri, new delhi</td>\n",
       "      <td>6600</td>\n",
       "      <td>cost&gt;5000</td>\n",
       "      <td>Elite</td>\n",
       "      <td>4.4</td>\n",
       "      <td>398</td>\n",
       "      <td>Good</td>\n",
       "      <td>New</td>\n",
       "      <td>0</td>\n",
       "      <td>New</td>\n",
       "      <td>28.598152</td>\n",
       "      <td>77.173709</td>\n",
       "      <td>Exotic Salad, Risotto, Salmon, Sunday Brunch, ...</td>\n",
       "      <td>Sophisticated, Live Grill, Attentive Service, ...</td>\n",
       "      <td>1</td>\n",
       "    </tr>\n",
       "    <tr>\n",
       "      <th>228</th>\n",
       "      <td>Orient Express - Taj Palace</td>\n",
       "      <td>european</td>\n",
       "      <td>Taj Palace, Chanakyapuri, New Delhi</td>\n",
       "      <td>taj palace, 2 sardar patel marg, chanakyapuri,...</td>\n",
       "      <td>8000</td>\n",
       "      <td>cost&gt;5000</td>\n",
       "      <td>Elite</td>\n",
       "      <td>4.4</td>\n",
       "      <td>284</td>\n",
       "      <td>Good</td>\n",
       "      <td>New</td>\n",
       "      <td>0</td>\n",
       "      <td>New</td>\n",
       "      <td>28.595208</td>\n",
       "      <td>77.171727</td>\n",
       "      <td>Get a complimentary night, earn up to 50% of s...</td>\n",
       "      <td>A romantic fine dining experience and varied E...</td>\n",
       "      <td>1</td>\n",
       "    </tr>\n",
       "  </tbody>\n",
       "</table>\n",
       "</div>"
      ],
      "text/plain": [
       "                        Restaurant_Name  \\\n",
       "35   Threesixtyone Degrees - The Oberoi   \n",
       "44                 Bukhara - ITC Maurya   \n",
       "49                  Kiyan - The Roseate   \n",
       "217    Ottimo At West View - ITC Maurya   \n",
       "228         Orient Express - Taj Palace   \n",
       "\n",
       "                                              Category  \\\n",
       "35   asian, continental, north indian, mughlai, des...   \n",
       "44                                 north indian, kebab   \n",
       "49          thai, european, north indian, pizza, salad   \n",
       "217                                  european, italian   \n",
       "228                                           european   \n",
       "\n",
       "                                 Locality  \\\n",
       "35       The Oberoi, Udyog Vihar, Gurgaon   \n",
       "44    ITC Maurya, Chanakyapuri, New Delhi   \n",
       "49      The Roseate, Kapashera, New Delhi   \n",
       "217   ITC Maurya, Chanakyapuri, New Delhi   \n",
       "228   Taj Palace, Chanakyapuri, New Delhi   \n",
       "\n",
       "                                               Address  Pricing_for_2  \\\n",
       "35                  443, phase 5, udyog vihar, gurgaon           5500   \n",
       "44                 itc maurya, chanakyapuri, new delhi           6500   \n",
       "49   the roseate, 21st milestone, samalkha, nh 8, k...           5500   \n",
       "217                itc maurya, chanakyapuri, new delhi           6600   \n",
       "228  taj palace, 2 sardar patel marg, chanakyapuri,...           8000   \n",
       "\n",
       "    Cost_for_2 price_range_classification  Dining_Rating  Dining_Review_Count  \\\n",
       "35   cost>5000                      Elite            4.7                 1019   \n",
       "44   cost>5000                      Elite            4.6                 4657   \n",
       "49   cost>5000                      Elite            4.6                 1124   \n",
       "217  cost>5000                      Elite            4.4                  398   \n",
       "228  cost>5000                      Elite            4.4                  284   \n",
       "\n",
       "    Dining_rating_category Delivery_Rating  Delivery_Rating_Count  \\\n",
       "35               Excellent             New                      1   \n",
       "44               Excellent             New                      0   \n",
       "49               Excellent             New                      2   \n",
       "217                   Good             New                      0   \n",
       "228                   Good             New                      0   \n",
       "\n",
       "    Delivery_rating_category   Latitude  Longitude  \\\n",
       "35                       New  28.501983  77.086985   \n",
       "44                       New  28.598216  77.173647   \n",
       "49                       New  28.525118  77.100226   \n",
       "217                      New  28.598152  77.173709   \n",
       "228                      New  28.595208  77.171727   \n",
       "\n",
       "                                            Speciality  \\\n",
       "35   Buffet, Chocolate Cake, Thai Curry, Salads, Vi...   \n",
       "44   Sikanderi Raan, Meat Masala, Chicken Khurchan,...   \n",
       "49                                                  NA   \n",
       "217  Exotic Salad, Risotto, Salmon, Sunday Brunch, ...   \n",
       "228  Get a complimentary night, earn up to 50% of s...   \n",
       "\n",
       "                                              Feedback  \\\n",
       "35   Outside Deck, Poolside View, Sophisticated, Am...   \n",
       "44   Modern Vibe, Jazz Music, Sophisticated, Safe P...   \n",
       "49                                                  NA   \n",
       "217  Sophisticated, Live Grill, Attentive Service, ...   \n",
       "228  A romantic fine dining experience and varied E...   \n",
       "\n",
       "     Missing_Delivery_Rating  \n",
       "35                         1  \n",
       "44                         1  \n",
       "49                         1  \n",
       "217                        1  \n",
       "228                        1  "
      ]
     },
     "execution_count": 49,
     "metadata": {},
     "output_type": "execute_result"
    }
   ],
   "source": [
    "# Restaurants in elite category\n",
    "Elite_Restaurants = df[df['price_range_classification']=='Elite']\n",
    "Elite_Restaurants.head()"
   ]
  },
  {
   "cell_type": "code",
   "execution_count": 50,
   "metadata": {},
   "outputs": [],
   "source": [
    "zomato_analysis = df.copy()"
   ]
  },
  {
   "cell_type": "code",
   "execution_count": 51,
   "metadata": {},
   "outputs": [],
   "source": [
    "zomato_analysis.to_csv('Zomato_DelhiNCR_Restaurants_Analysis.csv', index=False)"
   ]
  },
  {
   "cell_type": "code",
   "execution_count": 52,
   "metadata": {},
   "outputs": [
    {
     "data": {
      "text/html": [
       "<div class='tableauPlaceholder' id='viz1637481003422' style='position: relative'><noscript><a href='#'><img alt='Restaurants Classification on Map ' src='https:&#47;&#47;public.tableau.com&#47;static&#47;images&#47;De&#47;DelhiNCRRestaurantsclassification-streetview&#47;RestaurantsClassificationonMap&#47;1_rss.png' style='border: none' /></a></noscript><object class='tableauViz'  style='display:none;'><param name='host_url' value='https%3A%2F%2Fpublic.tableau.com%2F' /> <param name='embed_code_version' value='3' /> <param name='site_root' value='' /><param name='name' value='DelhiNCRRestaurantsclassification-streetview&#47;RestaurantsClassificationonMap' /><param name='tabs' value='no' /><param name='toolbar' value='yes' /><param name='static_image' value='https:&#47;&#47;public.tableau.com&#47;static&#47;images&#47;De&#47;DelhiNCRRestaurantsclassification-streetview&#47;RestaurantsClassificationonMap&#47;1.png' /> <param name='animate_transition' value='yes' /><param name='display_static_image' value='yes' /><param name='display_spinner' value='yes' /><param name='display_overlay' value='yes' /><param name='display_count' value='yes' /><param name='language' value='en-US' /><param name='filter' value='publish=yes' /></object></div>                <script type='text/javascript'>                    var divElement = document.getElementById('viz1637481003422');                    var vizElement = divElement.getElementsByTagName('object')[0];                    vizElement.style.width='100%';vizElement.style.height=(divElement.offsetWidth*0.75)+'px';                    var scriptElement = document.createElement('script');                    scriptElement.src = 'https://public.tableau.com/javascripts/api/viz_v1.js';                    vizElement.parentNode.insertBefore(scriptElement, vizElement);                </script>\n"
      ],
      "text/plain": [
       "<IPython.core.display.HTML object>"
      ]
     },
     "metadata": {},
     "output_type": "display_data"
    }
   ],
   "source": [
    "%%HTML\n",
    "<div class='tableauPlaceholder' id='viz1637481003422' style='position: relative'><noscript><a href='#'><img alt='Restaurants Classification on Map ' src='https:&#47;&#47;public.tableau.com&#47;static&#47;images&#47;De&#47;DelhiNCRRestaurantsclassification-streetview&#47;RestaurantsClassificationonMap&#47;1_rss.png' style='border: none' /></a></noscript><object class='tableauViz'  style='display:none;'><param name='host_url' value='https%3A%2F%2Fpublic.tableau.com%2F' /> <param name='embed_code_version' value='3' /> <param name='site_root' value='' /><param name='name' value='DelhiNCRRestaurantsclassification-streetview&#47;RestaurantsClassificationonMap' /><param name='tabs' value='no' /><param name='toolbar' value='yes' /><param name='static_image' value='https:&#47;&#47;public.tableau.com&#47;static&#47;images&#47;De&#47;DelhiNCRRestaurantsclassification-streetview&#47;RestaurantsClassificationonMap&#47;1.png' /> <param name='animate_transition' value='yes' /><param name='display_static_image' value='yes' /><param name='display_spinner' value='yes' /><param name='display_overlay' value='yes' /><param name='display_count' value='yes' /><param name='language' value='en-US' /><param name='filter' value='publish=yes' /></object></div>                <script type='text/javascript'>                    var divElement = document.getElementById('viz1637481003422');                    var vizElement = divElement.getElementsByTagName('object')[0];                    vizElement.style.width='100%';vizElement.style.height=(divElement.offsetWidth*0.75)+'px';                    var scriptElement = document.createElement('script');                    scriptElement.src = 'https://public.tableau.com/javascripts/api/viz_v1.js';                    vizElement.parentNode.insertBefore(scriptElement, vizElement);                </script>"
   ]
  },
  {
   "cell_type": "code",
   "execution_count": 53,
   "metadata": {},
   "outputs": [
    {
     "data": {
      "text/html": [
       "<div class='tableauPlaceholder' id='viz1637476594177' style='position: relative'><noscript><a href='#'><img alt='Price Range Analysis ' src='https:&#47;&#47;public.tableau.com&#47;static&#47;images&#47;De&#47;DelhiNCRRestaurantsPriceRangeAnalysis&#47;PriceRangeAnalysis&#47;1_rss.png' style='border: none' /></a></noscript><object class='tableauViz'  style='display:none;'><param name='host_url' value='https%3A%2F%2Fpublic.tableau.com%2F' /> <param name='embed_code_version' value='3' /> <param name='site_root' value='' /><param name='name' value='DelhiNCRRestaurantsPriceRangeAnalysis&#47;PriceRangeAnalysis' /><param name='tabs' value='no' /><param name='toolbar' value='yes' /><param name='static_image' value='https:&#47;&#47;public.tableau.com&#47;static&#47;images&#47;De&#47;DelhiNCRRestaurantsPriceRangeAnalysis&#47;PriceRangeAnalysis&#47;1.png' /> <param name='animate_transition' value='yes' /><param name='display_static_image' value='yes' /><param name='display_spinner' value='yes' /><param name='display_overlay' value='yes' /><param name='display_count' value='yes' /><param name='language' value='en-US' /><param name='filter' value='publish=yes' /></object></div>                <script type='text/javascript'>                    var divElement = document.getElementById('viz1637476594177');                    var vizElement = divElement.getElementsByTagName('object')[0];                    vizElement.style.width='100%';vizElement.style.height=(divElement.offsetWidth*0.75)+'px';                    var scriptElement = document.createElement('script');                    scriptElement.src = 'https://public.tableau.com/javascripts/api/viz_v1.js';                    vizElement.parentNode.insertBefore(scriptElement, vizElement);                </script>\n"
      ],
      "text/plain": [
       "<IPython.core.display.HTML object>"
      ]
     },
     "metadata": {},
     "output_type": "display_data"
    }
   ],
   "source": [
    "%%HTML\n",
    "<div class='tableauPlaceholder' id='viz1637476594177' style='position: relative'><noscript><a href='#'><img alt='Price Range Analysis ' src='https:&#47;&#47;public.tableau.com&#47;static&#47;images&#47;De&#47;DelhiNCRRestaurantsPriceRangeAnalysis&#47;PriceRangeAnalysis&#47;1_rss.png' style='border: none' /></a></noscript><object class='tableauViz'  style='display:none;'><param name='host_url' value='https%3A%2F%2Fpublic.tableau.com%2F' /> <param name='embed_code_version' value='3' /> <param name='site_root' value='' /><param name='name' value='DelhiNCRRestaurantsPriceRangeAnalysis&#47;PriceRangeAnalysis' /><param name='tabs' value='no' /><param name='toolbar' value='yes' /><param name='static_image' value='https:&#47;&#47;public.tableau.com&#47;static&#47;images&#47;De&#47;DelhiNCRRestaurantsPriceRangeAnalysis&#47;PriceRangeAnalysis&#47;1.png' /> <param name='animate_transition' value='yes' /><param name='display_static_image' value='yes' /><param name='display_spinner' value='yes' /><param name='display_overlay' value='yes' /><param name='display_count' value='yes' /><param name='language' value='en-US' /><param name='filter' value='publish=yes' /></object></div>                <script type='text/javascript'>                    var divElement = document.getElementById('viz1637476594177');                    var vizElement = divElement.getElementsByTagName('object')[0];                    vizElement.style.width='100%';vizElement.style.height=(divElement.offsetWidth*0.75)+'px';                    var scriptElement = document.createElement('script');                    scriptElement.src = 'https://public.tableau.com/javascripts/api/viz_v1.js';                    vizElement.parentNode.insertBefore(scriptElement, vizElement);                </script>"
   ]
  },
  {
   "cell_type": "markdown",
   "metadata": {},
   "source": [
    "### These maps gives insights about the regions like South West & North West Delhi have very limited restaurants and which price range restaurants should be incorporated in a particular region."
   ]
  },
  {
   "cell_type": "code",
   "execution_count": null,
   "metadata": {},
   "outputs": [],
   "source": []
  }
 ],
 "metadata": {
  "kernelspec": {
   "display_name": "Python 3",
   "language": "python",
   "name": "python3"
  },
  "language_info": {
   "codemirror_mode": {
    "name": "ipython",
    "version": 3
   },
   "file_extension": ".py",
   "mimetype": "text/x-python",
   "name": "python",
   "nbconvert_exporter": "python",
   "pygments_lexer": "ipython3",
   "version": "3.8.3"
  }
 },
 "nbformat": 4,
 "nbformat_minor": 4
}
